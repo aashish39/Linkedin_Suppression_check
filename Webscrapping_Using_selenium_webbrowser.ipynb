{
 "cells": [
  {
   "cell_type": "code",
   "execution_count": 212,
   "id": "4bca676d-09b4-4ea2-b405-9e87c8bbada5",
   "metadata": {},
   "outputs": [],
   "source": [
    "from selenium import webdriver\n",
    "from selenium.webdriver.common.by import By\n",
    "from bs4 import BeautifulSoup\n",
    "import time\n",
    "from selenium.webdriver.common.keys import Keys\n",
    "import pandas as pd\n",
    "df_prof = pd.read_excel(\"prospect_det.xlsx\")\n",
    "options = webdriver.ChromeOptions()\n",
    "user_name = \"asdeshmukh151@gmail.com\"\n",
    "pass_word = \"Jaihanuman\""
   ]
  },
  {
   "cell_type": "code",
   "execution_count": 213,
   "id": "30d6a618-0af7-4528-827e-a1b305e28ad4",
   "metadata": {},
   "outputs": [],
   "source": [
    "def login(user_name,pass_word):\n",
    "    # options = webdriver.ChromeOptions()\n",
    "    # options.add_experimental_option(\"detach\", True)\n",
    "    driver = webdriver.Chrome()\n",
    "    driver.get(\"https://linkedin.com/uas/login\")\n",
    "    time.sleep(5)\n",
    "    username = driver.find_element(By.ID, \"username\")\n",
    "    username.send_keys(user_name)\n",
    "    pword = driver.find_element(By.ID, \"password\")\n",
    "    pword.send_keys(pass_word)\t\n",
    "    driver.find_element(By.XPATH, \"//button[@type='submit']\").click()\n",
    "    return driver"
   ]
  },
  {
   "cell_type": "code",
   "execution_count": 214,
   "id": "02731d58-c489-42db-bf61-45b973643aa1",
   "metadata": {},
   "outputs": [
    {
     "name": "stderr",
     "output_type": "stream",
     "text": [
      "The chromedriver version (126.0.6478.126) detected in PATH at C:\\automation\\chromedriver.exe might not be compatible with the detected chrome version (127.0.6533.100); currently, chromedriver 127.0.6533.99 is recommended for chrome 127.*, so it is advised to delete the driver in PATH and retry\n"
     ]
    }
   ],
   "source": [
    "driver = login(user_name,pass_word)"
   ]
  },
  {
   "cell_type": "code",
   "execution_count": 170,
   "id": "8bc724b6-0377-4b28-b792-7c8f83c14515",
   "metadata": {},
   "outputs": [],
   "source": [
    "# Direct Link it takes 10 profile takes 1 min means 600 prof/hr\n",
    "info_dict = {'Link':[],'Header':[],'Details':[]}\n",
    "for x in df_prof['Prospect Link'].values[:10]:\n",
    "    driver.get(x)\n",
    "    time.sleep(0.5)\n",
    "    try:\n",
    "        # src = driver.page_source\n",
    " # Now using beautiful soup\n",
    "        # soup = BeautifulSoup(src, 'lxml')\n",
    "        # info_dict['Details'].append(driver.find_elements(By.CSS_SELECTOR,\".scaffold-layout__main > section:nth-child(4) > div:nth-child(3) > ul:nth-child(1) > li:nth-child(1) > div:nth-child(1)\")[0].text)\n",
    "        # info_dict['Details'].append(driver.find_elements(By.CSS_SELECTOR,\"#profile-content > div > div.scaffold-layout.scaffold-layout--breakpoint-md.scaffold-layout--main-aside.scaffold-layout--reflow.pv-profile.pvs-loader-wrapper__shimmer--animate > div > div > main > section:nth-child(6) > div.DYLpqoctXrBgXKsXHTfHsUPDPlWJok > ul > li:nth-child(1) > div\")[0].text)\n",
    "        try:\n",
    "            info_dict['Details'].append(driver.find_elements(By.XPATH,\"//*[@id='profile-content']/div/div[2]/div/div/main/section[3]/div[3]/ul/li[1]/div\")[0].text)\n",
    "        except:\n",
    "            info_dict['Details'].append(driver.find_elements(By.XPATH,\"//*[@id='profile-content']/div/div[2]/div/div/main/section[4]/div[3]/ul/li[1]/div\")[0].text)\n",
    "        info_dict['Header'].append(driver.find_elements(By.CSS_SELECTOR,\"div.mt2:nth-child(2)\")[0].text)\n",
    "        info_dict['Link'].append(x)\n",
    "    except Exception as err:\n",
    "        print(err)\n",
    "    # print(info_dict)    "
   ]
  },
  {
   "cell_type": "code",
   "execution_count": 139,
   "id": "a17d25b3-02d2-45ca-8bb7-830358e4fb4a",
   "metadata": {},
   "outputs": [],
   "source": [
    "df_output = pd.DataFrame(info_dict)\n",
    "df_output.to_csv('my_data_utf1.csv',encoding= 'utf-8')"
   ]
  },
  {
   "cell_type": "code",
   "execution_count": 140,
   "id": "01a553a7-17b8-4268-8b86-c1afbe26f8f3",
   "metadata": {},
   "outputs": [],
   "source": [
    "# driver.find_elements(By.CSS_SELECTOR,\"#profile-content > div > div.scaffold-layout.scaffold-layout--breakpoint-md.scaffold-layout--main-aside.scaffold-layout--reflow.pv-profile.pvs-loader-wrapper__shimmer--animate > div > div > main > section:nth-child(6) > div.DYLpqoctXrBgXKsXHTfHsUPDPlWJok > ul > li:nth-child(1) > div\")"
   ]
  },
  {
   "cell_type": "code",
   "execution_count": 141,
   "id": "fab37e0d-47b9-4264-b058-686ca9435779",
   "metadata": {},
   "outputs": [],
   "source": [
    "# driver.find_elements(By.CSS_SELECTOR,\".scaffold-layout__main > section:nth-child(4) > div:nth-child(3) > ul:nth-child(1) > li:nth-child(1) > div:nth-child(1)\")[0].text"
   ]
  },
  {
   "cell_type": "code",
   "execution_count": 142,
   "id": "617a8272-1ce5-4767-8d79-5ff0d692a213",
   "metadata": {},
   "outputs": [
    {
     "data": {
      "text/html": [
       "<div>\n",
       "<style scoped>\n",
       "    .dataframe tbody tr th:only-of-type {\n",
       "        vertical-align: middle;\n",
       "    }\n",
       "\n",
       "    .dataframe tbody tr th {\n",
       "        vertical-align: top;\n",
       "    }\n",
       "\n",
       "    .dataframe thead th {\n",
       "        text-align: right;\n",
       "    }\n",
       "</style>\n",
       "<table border=\"1\" class=\"dataframe\">\n",
       "  <thead>\n",
       "    <tr style=\"text-align: right;\">\n",
       "      <th></th>\n",
       "      <th>Link</th>\n",
       "      <th>Header</th>\n",
       "      <th>Details</th>\n",
       "    </tr>\n",
       "  </thead>\n",
       "  <tbody>\n",
       "    <tr>\n",
       "      <th>0</th>\n",
       "      <td>https://www.linkedin.com/in/pandeyrav/</td>\n",
       "      <td>Ravi Pandey\\n3rd degree connection\\n3rd\\nDirec...</td>\n",
       "      <td>Amazon\\nAmazon\\n9 yrs 2 mos\\n9 yrs 2 mos\\nDire...</td>\n",
       "    </tr>\n",
       "    <tr>\n",
       "      <th>1</th>\n",
       "      <td>https://www.linkedin.com/in/amit-agarwal-86b33/</td>\n",
       "      <td>Amit Agarwal\\n3rd degree connection\\n3rd\\nSVP ...</td>\n",
       "      <td>Amazon\\nAmazon\\n16 yrs 10 mos\\n16 yrs 10 mos\\n...</td>\n",
       "    </tr>\n",
       "    <tr>\n",
       "      <th>2</th>\n",
       "      <td>https://www.linkedin.com/in/girishbajaj/</td>\n",
       "      <td>Girish Bajaj\\n3rd degree connection\\n3rd\\nVice...</td>\n",
       "      <td>Amazon\\nAmazon\\n18 yrs 8 mos\\n18 yrs 8 mos\\nVi...</td>\n",
       "    </tr>\n",
       "    <tr>\n",
       "      <th>3</th>\n",
       "      <td>https://www.linkedin.com/in/shilangi-mukherji-...</td>\n",
       "      <td>Shilangi Mukherji\\n3rd degree connection\\n3rd\\...</td>\n",
       "      <td>Prime Video &amp; Amazon MGM Studios\\nPrime Video ...</td>\n",
       "    </tr>\n",
       "    <tr>\n",
       "      <th>4</th>\n",
       "      <td>https://www.linkedin.com/in/monika-shergill-8a...</td>\n",
       "      <td>Monika Shergill\\n3rd degree connection\\n3rd\\nV...</td>\n",
       "      <td>Netflix\\nNetflix\\n5 yrs 2 mos\\n5 yrs 2 mos\\nIn...</td>\n",
       "    </tr>\n",
       "    <tr>\n",
       "      <th>5</th>\n",
       "      <td>https://www.linkedin.com/in/apoorva-mehta-778b...</td>\n",
       "      <td>Apoorva Mehta\\n(He/Him)\\nCEO, Dharma Productio...</td>\n",
       "      <td>Chief Executive Officer | Producer\\nChief Exec...</td>\n",
       "    </tr>\n",
       "    <tr>\n",
       "      <th>6</th>\n",
       "      <td>https://www.linkedin.com/in/tedsarandos/</td>\n",
       "      <td>Ted Sarandos\\n3rd degree connection\\n3rd\\nCo-C...</td>\n",
       "      <td>Netflix\\nNetflix\\n24 yrs 6 mos\\n24 yrs 6 mos\\n...</td>\n",
       "    </tr>\n",
       "    <tr>\n",
       "      <th>7</th>\n",
       "      <td>https://www.linkedin.com/in/reedhastings/</td>\n",
       "      <td>Reed Hastings\\n3rd degree connection\\n3rd\\nCha...</td>\n",
       "      <td>Chairman\\nChairman\\nPowder · Part-time\\nPowder...</td>\n",
       "    </tr>\n",
       "  </tbody>\n",
       "</table>\n",
       "</div>"
      ],
      "text/plain": [
       "                                                Link  \\\n",
       "0             https://www.linkedin.com/in/pandeyrav/   \n",
       "1    https://www.linkedin.com/in/amit-agarwal-86b33/   \n",
       "2           https://www.linkedin.com/in/girishbajaj/   \n",
       "3  https://www.linkedin.com/in/shilangi-mukherji-...   \n",
       "4  https://www.linkedin.com/in/monika-shergill-8a...   \n",
       "5  https://www.linkedin.com/in/apoorva-mehta-778b...   \n",
       "6           https://www.linkedin.com/in/tedsarandos/   \n",
       "7          https://www.linkedin.com/in/reedhastings/   \n",
       "\n",
       "                                              Header  \\\n",
       "0  Ravi Pandey\\n3rd degree connection\\n3rd\\nDirec...   \n",
       "1  Amit Agarwal\\n3rd degree connection\\n3rd\\nSVP ...   \n",
       "2  Girish Bajaj\\n3rd degree connection\\n3rd\\nVice...   \n",
       "3  Shilangi Mukherji\\n3rd degree connection\\n3rd\\...   \n",
       "4  Monika Shergill\\n3rd degree connection\\n3rd\\nV...   \n",
       "5  Apoorva Mehta\\n(He/Him)\\nCEO, Dharma Productio...   \n",
       "6  Ted Sarandos\\n3rd degree connection\\n3rd\\nCo-C...   \n",
       "7  Reed Hastings\\n3rd degree connection\\n3rd\\nCha...   \n",
       "\n",
       "                                             Details  \n",
       "0  Amazon\\nAmazon\\n9 yrs 2 mos\\n9 yrs 2 mos\\nDire...  \n",
       "1  Amazon\\nAmazon\\n16 yrs 10 mos\\n16 yrs 10 mos\\n...  \n",
       "2  Amazon\\nAmazon\\n18 yrs 8 mos\\n18 yrs 8 mos\\nVi...  \n",
       "3  Prime Video & Amazon MGM Studios\\nPrime Video ...  \n",
       "4  Netflix\\nNetflix\\n5 yrs 2 mos\\n5 yrs 2 mos\\nIn...  \n",
       "5  Chief Executive Officer | Producer\\nChief Exec...  \n",
       "6  Netflix\\nNetflix\\n24 yrs 6 mos\\n24 yrs 6 mos\\n...  \n",
       "7  Chairman\\nChairman\\nPowder · Part-time\\nPowder...  "
      ]
     },
     "execution_count": 142,
     "metadata": {},
     "output_type": "execute_result"
    }
   ],
   "source": [
    "pd.DataFrame(info_dict)"
   ]
  },
  {
   "cell_type": "code",
   "execution_count": 146,
   "id": "7a5f8397-e4ce-4321-aed0-b46ea9fd3f6e",
   "metadata": {},
   "outputs": [
    {
     "ename": "SyntaxError",
     "evalue": "invalid syntax (3398453370.py, line 1)",
     "output_type": "error",
     "traceback": [
      "\u001b[1;36m  Cell \u001b[1;32mIn[146], line 1\u001b[1;36m\u001b[0m\n\u001b[1;33m    *asdf*\u001b[0m\n\u001b[1;37m          ^\u001b[0m\n\u001b[1;31mSyntaxError\u001b[0m\u001b[1;31m:\u001b[0m invalid syntax\n"
     ]
    }
   ],
   "source": [
    "# Keven"
   ]
  },
  {
   "cell_type": "code",
   "execution_count": 215,
   "id": "ef86b0b2-e264-42c6-8ee3-cec15834eba1",
   "metadata": {},
   "outputs": [],
   "source": [
    "df_prof = pd.read_excel(\"fname_lname_company_name.xlsx\")"
   ]
  },
  {
   "cell_type": "code",
   "execution_count": 216,
   "id": "75fbb1d4-5204-4d50-b424-d080971aecfa",
   "metadata": {},
   "outputs": [
    {
     "data": {
      "text/plain": [
       "'Keven Scott Microsoft'"
      ]
     },
     "execution_count": 216,
     "metadata": {},
     "output_type": "execute_result"
    }
   ],
   "source": [
    "df_prof.Links[0]"
   ]
  },
  {
   "cell_type": "code",
   "execution_count": 161,
   "id": "b43db209-93e0-4717-b071-be2198a57afa",
   "metadata": {},
   "outputs": [],
   "source": [
    "driver.find_elements(By.XPATH,\"//*[@id='global-nav-typeahead']/input\")[0].send_keys(df_prof.Links[0]+Keys.ENTER)\n",
    "driver.find_elements(By.XPATH,\"//*[@id='IzEfRDVMTI2loJROVOYWUA==']/div/ul/li/div/div/div/div[2]/div[2]/div/a\")[0].click()"
   ]
  },
  {
   "cell_type": "code",
   "execution_count": 179,
   "id": "1c0be6e5-3e48-4f5c-9b52-affa4f2030f4",
   "metadata": {},
   "outputs": [
    {
     "ename": "IndexError",
     "evalue": "list index out of range",
     "output_type": "error",
     "traceback": [
      "\u001b[1;31m---------------------------------------------------------------------------\u001b[0m",
      "\u001b[1;31mIndexError\u001b[0m                                Traceback (most recent call last)",
      "Cell \u001b[1;32mIn[179], line 4\u001b[0m\n\u001b[0;32m      2\u001b[0m driver\u001b[38;5;241m.\u001b[39mfind_elements(By\u001b[38;5;241m.\u001b[39mXPATH,\u001b[38;5;124m\"\u001b[39m\u001b[38;5;124m//*[@id=\u001b[39m\u001b[38;5;124m'\u001b[39m\u001b[38;5;124mglobal-nav-typeahead\u001b[39m\u001b[38;5;124m'\u001b[39m\u001b[38;5;124m]/input\u001b[39m\u001b[38;5;124m\"\u001b[39m)[\u001b[38;5;241m0\u001b[39m]\u001b[38;5;241m.\u001b[39msend_keys(df_prof\u001b[38;5;241m.\u001b[39mLinks[\u001b[38;5;241m0\u001b[39m]\u001b[38;5;241m+\u001b[39mKeys\u001b[38;5;241m.\u001b[39mENTER)\n\u001b[0;32m      3\u001b[0m time\u001b[38;5;241m.\u001b[39msleep(\u001b[38;5;241m0.5\u001b[39m)\n\u001b[1;32m----> 4\u001b[0m \u001b[43mdriver\u001b[49m\u001b[38;5;241;43m.\u001b[39;49m\u001b[43mfind_elements\u001b[49m\u001b[43m(\u001b[49m\u001b[43mBy\u001b[49m\u001b[38;5;241;43m.\u001b[39;49m\u001b[43mXPATH\u001b[49m\u001b[43m,\u001b[49m\u001b[38;5;124;43m\"\u001b[39;49m\u001b[38;5;124;43m//*[@id=\u001b[39;49m\u001b[38;5;124;43m'\u001b[39;49m\u001b[38;5;124;43mIzEfRDVMTI2loJROVOYWUA==\u001b[39;49m\u001b[38;5;124;43m'\u001b[39;49m\u001b[38;5;124;43m]/div/ul/li/div/div/div/div[2]/div[2]/div/a\u001b[39;49m\u001b[38;5;124;43m\"\u001b[39;49m\u001b[43m)\u001b[49m\u001b[43m[\u001b[49m\u001b[38;5;241;43m0\u001b[39;49m\u001b[43m]\u001b[49m\u001b[38;5;241m.\u001b[39mclick()\n\u001b[0;32m      5\u001b[0m \u001b[38;5;66;03m# time.sleep(0.5)\u001b[39;00m\n\u001b[0;32m      6\u001b[0m \u001b[38;5;66;03m# try:\u001b[39;00m\n\u001b[0;32m      7\u001b[0m \u001b[38;5;66;03m#     try:\u001b[39;00m\n\u001b[1;32m   (...)\u001b[0m\n\u001b[0;32m     13\u001b[0m \u001b[38;5;66;03m# except Exception as err:\u001b[39;00m\n\u001b[0;32m     14\u001b[0m \u001b[38;5;66;03m#     print(err)\u001b[39;00m\n",
      "\u001b[1;31mIndexError\u001b[0m: list index out of range"
     ]
    }
   ],
   "source": [
    "for x in df_prof.Links.values[:5]:\n",
    "    driver.find_elements(By.XPATH,\"//*[@id='global-nav-typeahead']/input\")[0].send_keys(df_prof.Links[0]+Keys.ENTER)\n",
    "    time.sleep(0.5)\n",
    "    driver.find_elements(By.XPATH,\"//*[@id='IzEfRDVMTI2loJROVOYWUA==']/div/ul/li/div/div/div/div[2]/div[2]/div/a\")[0].click()\n",
    "    # time.sleep(0.5)\n",
    "    # try:\n",
    "    #     try:\n",
    "    #         info_dict['Details'].append(driver.find_elements(By.XPATH,\"//*[@id='profile-content']/div/div[2]/div/div/main/section[3]/div[3]/ul/li[1]/div\")[0].text)\n",
    "    #     except:\n",
    "    #         info_dict['Details'].append(driver.find_elements(By.XPATH,\"//*[@id='profile-content']/div/div[2]/div/div/main/section[4]/div[3]/ul/li[1]/div\")[0].text)\n",
    "    #     info_dict['Header'].append(driver.find_elements(By.CSS_SELECTOR,\"div.mt2:nth-child(2)\")[0].text)\n",
    "    #     info_dict['Link'].append(x)\n",
    "    # except Exception as err:\n",
    "    #     print(err)"
   ]
  },
  {
   "cell_type": "code",
   "execution_count": 260,
   "id": "50f4c736-908e-4599-93f1-5ce357db70a7",
   "metadata": {},
   "outputs": [
    {
     "ename": "StaleElementReferenceException",
     "evalue": "Message: stale element reference: stale element not found in the current frame\n  (Session info: chrome=127.0.6533.100); For documentation on this error, please visit: https://www.selenium.dev/documentation/webdriver/troubleshooting/errors#stale-element-reference-exception\nStacktrace:\n\tGetHandleVerifier [0x00007FF69797EEA2+31554]\n\t(No symbol) [0x00007FF6978F7ED9]\n\t(No symbol) [0x00007FF6977B872A]\n\t(No symbol) [0x00007FF6977BE55E]\n\t(No symbol) [0x00007FF6977C0EB1]\n\t(No symbol) [0x00007FF6977C0F50]\n\t(No symbol) [0x00007FF6978021DB]\n\t(No symbol) [0x00007FF69782D02A]\n\t(No symbol) [0x00007FF6977FBA76]\n\t(No symbol) [0x00007FF69782D240]\n\t(No symbol) [0x00007FF69784C977]\n\t(No symbol) [0x00007FF69782CDD3]\n\t(No symbol) [0x00007FF6977FA33B]\n\t(No symbol) [0x00007FF6977FAED1]\n\tGetHandleVerifier [0x00007FF697C88B1D+3217341]\n\tGetHandleVerifier [0x00007FF697CD5AE3+3532675]\n\tGetHandleVerifier [0x00007FF697CCB0E0+3489152]\n\tGetHandleVerifier [0x00007FF697A2E776+750614]\n\t(No symbol) [0x00007FF69790375F]\n\t(No symbol) [0x00007FF6978FEB14]\n\t(No symbol) [0x00007FF6978FECA2]\n\t(No symbol) [0x00007FF6978EE16F]\n\tBaseThreadInitThunk [0x00007FFFC2257374+20]\n\tRtlUserThreadStart [0x00007FFFC2BBCC91+33]\n",
     "output_type": "error",
     "traceback": [
      "\u001b[1;31m---------------------------------------------------------------------------\u001b[0m",
      "\u001b[1;31mStaleElementReferenceException\u001b[0m            Traceback (most recent call last)",
      "Cell \u001b[1;32mIn[260], line 6\u001b[0m\n\u001b[0;32m      4\u001b[0m     time\u001b[38;5;241m.\u001b[39msleep(\u001b[38;5;241m0.1\u001b[39m)\n\u001b[0;32m      5\u001b[0m \u001b[38;5;66;03m# driver.find_elements(By.CLASS_NAME,\"app-aware-link\")[11].click()\u001b[39;00m\n\u001b[1;32m----> 6\u001b[0m     \u001b[38;5;28mprint\u001b[39m(\u001b[43mdriver\u001b[49m\u001b[38;5;241;43m.\u001b[39;49m\u001b[43mfind_elements\u001b[49m\u001b[43m(\u001b[49m\u001b[43mBy\u001b[49m\u001b[38;5;241;43m.\u001b[39;49m\u001b[43mCSS_SELECTOR\u001b[49m\u001b[43m,\u001b[49m\u001b[38;5;124;43m\"\u001b[39;49m\u001b[38;5;124;43mspan[class=\u001b[39;49m\u001b[38;5;124;43m'\u001b[39;49m\u001b[38;5;124;43mimage-text-lockup__text \u001b[39;49m\u001b[38;5;124;43m'\u001b[39;49m\u001b[38;5;124;43m]\u001b[39;49m\u001b[38;5;124;43m\"\u001b[39;49m\u001b[43m)\u001b[49m\u001b[43m[\u001b[49m\u001b[38;5;241;43m0\u001b[39;49m\u001b[43m]\u001b[49m\u001b[38;5;241;43m.\u001b[39;49m\u001b[43mtext\u001b[49m\u001b[38;5;241m+\u001b[39m\u001b[38;5;124m\"\u001b[39m\u001b[38;5;124m \u001b[39m\u001b[38;5;124m\"\u001b[39m\u001b[38;5;241m+\u001b[39mx)\n\u001b[0;32m      7\u001b[0m     \u001b[38;5;66;03m# driver.find_elements(By.CSS_SELECTOR,\"span[class='image-text-lockup__text ']\")[0].click()\u001b[39;00m\n\u001b[0;32m      8\u001b[0m     time\u001b[38;5;241m.\u001b[39msleep(\u001b[38;5;241m0.5\u001b[39m)\n",
      "File \u001b[1;32m~\\AppData\\Local\\Programs\\Python\\Python312\\Lib\\site-packages\\selenium\\webdriver\\remote\\webelement.py:90\u001b[0m, in \u001b[0;36mWebElement.text\u001b[1;34m(self)\u001b[0m\n\u001b[0;32m     87\u001b[0m \u001b[38;5;129m@property\u001b[39m\n\u001b[0;32m     88\u001b[0m \u001b[38;5;28;01mdef\u001b[39;00m \u001b[38;5;21mtext\u001b[39m(\u001b[38;5;28mself\u001b[39m) \u001b[38;5;241m-\u001b[39m\u001b[38;5;241m>\u001b[39m \u001b[38;5;28mstr\u001b[39m:\n\u001b[0;32m     89\u001b[0m \u001b[38;5;250m    \u001b[39m\u001b[38;5;124;03m\"\"\"The text of the element.\"\"\"\u001b[39;00m\n\u001b[1;32m---> 90\u001b[0m     \u001b[38;5;28;01mreturn\u001b[39;00m \u001b[38;5;28;43mself\u001b[39;49m\u001b[38;5;241;43m.\u001b[39;49m\u001b[43m_execute\u001b[49m\u001b[43m(\u001b[49m\u001b[43mCommand\u001b[49m\u001b[38;5;241;43m.\u001b[39;49m\u001b[43mGET_ELEMENT_TEXT\u001b[49m\u001b[43m)\u001b[49m[\u001b[38;5;124m\"\u001b[39m\u001b[38;5;124mvalue\u001b[39m\u001b[38;5;124m\"\u001b[39m]\n",
      "File \u001b[1;32m~\\AppData\\Local\\Programs\\Python\\Python312\\Lib\\site-packages\\selenium\\webdriver\\remote\\webelement.py:395\u001b[0m, in \u001b[0;36mWebElement._execute\u001b[1;34m(self, command, params)\u001b[0m\n\u001b[0;32m    393\u001b[0m     params \u001b[38;5;241m=\u001b[39m {}\n\u001b[0;32m    394\u001b[0m params[\u001b[38;5;124m\"\u001b[39m\u001b[38;5;124mid\u001b[39m\u001b[38;5;124m\"\u001b[39m] \u001b[38;5;241m=\u001b[39m \u001b[38;5;28mself\u001b[39m\u001b[38;5;241m.\u001b[39m_id\n\u001b[1;32m--> 395\u001b[0m \u001b[38;5;28;01mreturn\u001b[39;00m \u001b[38;5;28;43mself\u001b[39;49m\u001b[38;5;241;43m.\u001b[39;49m\u001b[43m_parent\u001b[49m\u001b[38;5;241;43m.\u001b[39;49m\u001b[43mexecute\u001b[49m\u001b[43m(\u001b[49m\u001b[43mcommand\u001b[49m\u001b[43m,\u001b[49m\u001b[43m \u001b[49m\u001b[43mparams\u001b[49m\u001b[43m)\u001b[49m\n",
      "File \u001b[1;32m~\\AppData\\Local\\Programs\\Python\\Python312\\Lib\\site-packages\\selenium\\webdriver\\remote\\webdriver.py:354\u001b[0m, in \u001b[0;36mWebDriver.execute\u001b[1;34m(self, driver_command, params)\u001b[0m\n\u001b[0;32m    352\u001b[0m response \u001b[38;5;241m=\u001b[39m \u001b[38;5;28mself\u001b[39m\u001b[38;5;241m.\u001b[39mcommand_executor\u001b[38;5;241m.\u001b[39mexecute(driver_command, params)\n\u001b[0;32m    353\u001b[0m \u001b[38;5;28;01mif\u001b[39;00m response:\n\u001b[1;32m--> 354\u001b[0m     \u001b[38;5;28;43mself\u001b[39;49m\u001b[38;5;241;43m.\u001b[39;49m\u001b[43merror_handler\u001b[49m\u001b[38;5;241;43m.\u001b[39;49m\u001b[43mcheck_response\u001b[49m\u001b[43m(\u001b[49m\u001b[43mresponse\u001b[49m\u001b[43m)\u001b[49m\n\u001b[0;32m    355\u001b[0m     response[\u001b[38;5;124m\"\u001b[39m\u001b[38;5;124mvalue\u001b[39m\u001b[38;5;124m\"\u001b[39m] \u001b[38;5;241m=\u001b[39m \u001b[38;5;28mself\u001b[39m\u001b[38;5;241m.\u001b[39m_unwrap_value(response\u001b[38;5;241m.\u001b[39mget(\u001b[38;5;124m\"\u001b[39m\u001b[38;5;124mvalue\u001b[39m\u001b[38;5;124m\"\u001b[39m, \u001b[38;5;28;01mNone\u001b[39;00m))\n\u001b[0;32m    356\u001b[0m     \u001b[38;5;28;01mreturn\u001b[39;00m response\n",
      "File \u001b[1;32m~\\AppData\\Local\\Programs\\Python\\Python312\\Lib\\site-packages\\selenium\\webdriver\\remote\\errorhandler.py:229\u001b[0m, in \u001b[0;36mErrorHandler.check_response\u001b[1;34m(self, response)\u001b[0m\n\u001b[0;32m    227\u001b[0m         alert_text \u001b[38;5;241m=\u001b[39m value[\u001b[38;5;124m\"\u001b[39m\u001b[38;5;124malert\u001b[39m\u001b[38;5;124m\"\u001b[39m]\u001b[38;5;241m.\u001b[39mget(\u001b[38;5;124m\"\u001b[39m\u001b[38;5;124mtext\u001b[39m\u001b[38;5;124m\"\u001b[39m)\n\u001b[0;32m    228\u001b[0m     \u001b[38;5;28;01mraise\u001b[39;00m exception_class(message, screen, stacktrace, alert_text)  \u001b[38;5;66;03m# type: ignore[call-arg]  # mypy is not smart enough here\u001b[39;00m\n\u001b[1;32m--> 229\u001b[0m \u001b[38;5;28;01mraise\u001b[39;00m exception_class(message, screen, stacktrace)\n",
      "\u001b[1;31mStaleElementReferenceException\u001b[0m: Message: stale element reference: stale element not found in the current frame\n  (Session info: chrome=127.0.6533.100); For documentation on this error, please visit: https://www.selenium.dev/documentation/webdriver/troubleshooting/errors#stale-element-reference-exception\nStacktrace:\n\tGetHandleVerifier [0x00007FF69797EEA2+31554]\n\t(No symbol) [0x00007FF6978F7ED9]\n\t(No symbol) [0x00007FF6977B872A]\n\t(No symbol) [0x00007FF6977BE55E]\n\t(No symbol) [0x00007FF6977C0EB1]\n\t(No symbol) [0x00007FF6977C0F50]\n\t(No symbol) [0x00007FF6978021DB]\n\t(No symbol) [0x00007FF69782D02A]\n\t(No symbol) [0x00007FF6977FBA76]\n\t(No symbol) [0x00007FF69782D240]\n\t(No symbol) [0x00007FF69784C977]\n\t(No symbol) [0x00007FF69782CDD3]\n\t(No symbol) [0x00007FF6977FA33B]\n\t(No symbol) [0x00007FF6977FAED1]\n\tGetHandleVerifier [0x00007FF697C88B1D+3217341]\n\tGetHandleVerifier [0x00007FF697CD5AE3+3532675]\n\tGetHandleVerifier [0x00007FF697CCB0E0+3489152]\n\tGetHandleVerifier [0x00007FF697A2E776+750614]\n\t(No symbol) [0x00007FF69790375F]\n\t(No symbol) [0x00007FF6978FEB14]\n\t(No symbol) [0x00007FF6978FECA2]\n\t(No symbol) [0x00007FF6978EE16F]\n\tBaseThreadInitThunk [0x00007FFFC2257374+20]\n\tRtlUserThreadStart [0x00007FFFC2BBCC91+33]\n"
     ]
    }
   ],
   "source": [
    "for x in df_prof.Links.values[:5]:\n",
    "    driver.find_elements(By.XPATH,\"//*[@id='global-nav-typeahead']/input\")[0].clear()\n",
    "    driver.find_elements(By.XPATH,\"//*[@id='global-nav-typeahead']/input\")[0].send_keys(x+Keys.ENTER)\n",
    "    time.sleep(0.1)\n",
    "# driver.find_elements(By.CLASS_NAME,\"app-aware-link\")[11].click()\n",
    "    print(driver.find_elements(By.CSS_SELECTOR,\"span[class='image-text-lockup__text ']\")[0].text+\" \"+x)\n",
    "    # driver.find_elements(By.CSS_SELECTOR,\"span[class='image-text-lockup__text ']\")[0].click()\n",
    "    time.sleep(0.5)\n",
    "    try:\n",
    "        try:\n",
    "            info_dict['Details'].append(driver.find_elements(By.XPATH,\"//*[@id='profile-content']/div/div[2]/div/div/main/section[3]/div[3]/ul/li[1]/div\")[0].text)\n",
    "        except:\n",
    "            info_dict['Details'].append(driver.find_elements(By.XPATH,\"//*[@id='profile-content']/div/div[2]/div/div/main/section[4]/div[3]/ul/li[1]/div\")[0].text)\n",
    "        info_dict['Header'].append(driver.find_elements(By.CSS_SELECTOR,\"div.mt2:nth-child(2)\")[0].text)\n",
    "        info_dict['Link'].append(x)\n",
    "    except Exception as err:\n",
    "        print(err)"
   ]
  },
  {
   "cell_type": "code",
   "execution_count": 250,
   "id": "852cc37e-84f9-445e-8453-834d768457a2",
   "metadata": {},
   "outputs": [
    {
     "data": {
      "text/plain": [
       "'View full profile'"
      ]
     },
     "execution_count": 250,
     "metadata": {},
     "output_type": "execute_result"
    }
   ],
   "source": [
    "driver.find_elements(By.CSS_SELECTOR,\"span[class='image-text-lockup__text ']\")[0].text"
   ]
  },
  {
   "cell_type": "code",
   "execution_count": 289,
   "id": "1e295fa1-467e-4f46-b713-7bcebeaa4442",
   "metadata": {},
   "outputs": [
    {
     "ename": "StaleElementReferenceException",
     "evalue": "Message: stale element reference: stale element not found in the current frame\n  (Session info: chrome=127.0.6533.100); For documentation on this error, please visit: https://www.selenium.dev/documentation/webdriver/troubleshooting/errors#stale-element-reference-exception\nStacktrace:\n\tGetHandleVerifier [0x00007FF69797EEA2+31554]\n\t(No symbol) [0x00007FF6978F7ED9]\n\t(No symbol) [0x00007FF6977B872A]\n\t(No symbol) [0x00007FF6977BE55E]\n\t(No symbol) [0x00007FF6977C0EB1]\n\t(No symbol) [0x00007FF6977C0F50]\n\t(No symbol) [0x00007FF69780AB47]\n\t(No symbol) [0x00007FF69780984C]\n\t(No symbol) [0x00007FF6977FC151]\n\t(No symbol) [0x00007FF69782D02A]\n\t(No symbol) [0x00007FF6977FBA76]\n\t(No symbol) [0x00007FF69782D240]\n\t(No symbol) [0x00007FF69784C977]\n\t(No symbol) [0x00007FF69782CDD3]\n\t(No symbol) [0x00007FF6977FA33B]\n\t(No symbol) [0x00007FF6977FAED1]\n\tGetHandleVerifier [0x00007FF697C88B1D+3217341]\n\tGetHandleVerifier [0x00007FF697CD5AE3+3532675]\n\tGetHandleVerifier [0x00007FF697CCB0E0+3489152]\n\tGetHandleVerifier [0x00007FF697A2E776+750614]\n\t(No symbol) [0x00007FF69790375F]\n\t(No symbol) [0x00007FF6978FEB14]\n\t(No symbol) [0x00007FF6978FECA2]\n\t(No symbol) [0x00007FF6978EE16F]\n\tBaseThreadInitThunk [0x00007FFFC2257374+20]\n\tRtlUserThreadStart [0x00007FFFC2BBCC91+33]\n",
     "output_type": "error",
     "traceback": [
      "\u001b[1;31m---------------------------------------------------------------------------\u001b[0m",
      "\u001b[1;31mStaleElementReferenceException\u001b[0m            Traceback (most recent call last)",
      "Cell \u001b[1;32mIn[289], line 8\u001b[0m\n\u001b[0;32m      4\u001b[0m time\u001b[38;5;241m.\u001b[39msleep(\u001b[38;5;241m0.5\u001b[39m)\n\u001b[0;32m      5\u001b[0m \u001b[38;5;66;03m# driver.find_elements(By.CLASS_NAME,\"app-aware-link\")[11].click()\u001b[39;00m\n\u001b[0;32m      6\u001b[0m \u001b[38;5;66;03m# print(driver.find_elements(By.CSS_SELECTOR,\"span[class='image-text-lockup__text ']\")[0].text+\" \"+df_prof.Links[x])\u001b[39;00m\n\u001b[0;32m      7\u001b[0m \u001b[38;5;66;03m# time.sleep(0.5)\u001b[39;00m\n\u001b[1;32m----> 8\u001b[0m \u001b[43mdriver\u001b[49m\u001b[38;5;241;43m.\u001b[39;49m\u001b[43mfind_elements\u001b[49m\u001b[43m(\u001b[49m\u001b[43mBy\u001b[49m\u001b[38;5;241;43m.\u001b[39;49m\u001b[43mCSS_SELECTOR\u001b[49m\u001b[43m,\u001b[49m\u001b[38;5;124;43m\"\u001b[39;49m\u001b[38;5;124;43mspan[class=\u001b[39;49m\u001b[38;5;124;43m'\u001b[39;49m\u001b[38;5;124;43mimage-text-lockup__text \u001b[39;49m\u001b[38;5;124;43m'\u001b[39;49m\u001b[38;5;124;43m]\u001b[39;49m\u001b[38;5;124;43m\"\u001b[39;49m\u001b[43m)\u001b[49m\u001b[43m[\u001b[49m\u001b[38;5;241;43m0\u001b[39;49m\u001b[43m]\u001b[49m\u001b[38;5;241;43m.\u001b[39;49m\u001b[43mclick\u001b[49m\u001b[43m(\u001b[49m\u001b[43m)\u001b[49m\n",
      "File \u001b[1;32m~\\AppData\\Local\\Programs\\Python\\Python312\\Lib\\site-packages\\selenium\\webdriver\\remote\\webelement.py:94\u001b[0m, in \u001b[0;36mWebElement.click\u001b[1;34m(self)\u001b[0m\n\u001b[0;32m     92\u001b[0m \u001b[38;5;28;01mdef\u001b[39;00m \u001b[38;5;21mclick\u001b[39m(\u001b[38;5;28mself\u001b[39m) \u001b[38;5;241m-\u001b[39m\u001b[38;5;241m>\u001b[39m \u001b[38;5;28;01mNone\u001b[39;00m:\n\u001b[0;32m     93\u001b[0m \u001b[38;5;250m    \u001b[39m\u001b[38;5;124;03m\"\"\"Clicks the element.\"\"\"\u001b[39;00m\n\u001b[1;32m---> 94\u001b[0m     \u001b[38;5;28;43mself\u001b[39;49m\u001b[38;5;241;43m.\u001b[39;49m\u001b[43m_execute\u001b[49m\u001b[43m(\u001b[49m\u001b[43mCommand\u001b[49m\u001b[38;5;241;43m.\u001b[39;49m\u001b[43mCLICK_ELEMENT\u001b[49m\u001b[43m)\u001b[49m\n",
      "File \u001b[1;32m~\\AppData\\Local\\Programs\\Python\\Python312\\Lib\\site-packages\\selenium\\webdriver\\remote\\webelement.py:395\u001b[0m, in \u001b[0;36mWebElement._execute\u001b[1;34m(self, command, params)\u001b[0m\n\u001b[0;32m    393\u001b[0m     params \u001b[38;5;241m=\u001b[39m {}\n\u001b[0;32m    394\u001b[0m params[\u001b[38;5;124m\"\u001b[39m\u001b[38;5;124mid\u001b[39m\u001b[38;5;124m\"\u001b[39m] \u001b[38;5;241m=\u001b[39m \u001b[38;5;28mself\u001b[39m\u001b[38;5;241m.\u001b[39m_id\n\u001b[1;32m--> 395\u001b[0m \u001b[38;5;28;01mreturn\u001b[39;00m \u001b[38;5;28;43mself\u001b[39;49m\u001b[38;5;241;43m.\u001b[39;49m\u001b[43m_parent\u001b[49m\u001b[38;5;241;43m.\u001b[39;49m\u001b[43mexecute\u001b[49m\u001b[43m(\u001b[49m\u001b[43mcommand\u001b[49m\u001b[43m,\u001b[49m\u001b[43m \u001b[49m\u001b[43mparams\u001b[49m\u001b[43m)\u001b[49m\n",
      "File \u001b[1;32m~\\AppData\\Local\\Programs\\Python\\Python312\\Lib\\site-packages\\selenium\\webdriver\\remote\\webdriver.py:354\u001b[0m, in \u001b[0;36mWebDriver.execute\u001b[1;34m(self, driver_command, params)\u001b[0m\n\u001b[0;32m    352\u001b[0m response \u001b[38;5;241m=\u001b[39m \u001b[38;5;28mself\u001b[39m\u001b[38;5;241m.\u001b[39mcommand_executor\u001b[38;5;241m.\u001b[39mexecute(driver_command, params)\n\u001b[0;32m    353\u001b[0m \u001b[38;5;28;01mif\u001b[39;00m response:\n\u001b[1;32m--> 354\u001b[0m     \u001b[38;5;28;43mself\u001b[39;49m\u001b[38;5;241;43m.\u001b[39;49m\u001b[43merror_handler\u001b[49m\u001b[38;5;241;43m.\u001b[39;49m\u001b[43mcheck_response\u001b[49m\u001b[43m(\u001b[49m\u001b[43mresponse\u001b[49m\u001b[43m)\u001b[49m\n\u001b[0;32m    355\u001b[0m     response[\u001b[38;5;124m\"\u001b[39m\u001b[38;5;124mvalue\u001b[39m\u001b[38;5;124m\"\u001b[39m] \u001b[38;5;241m=\u001b[39m \u001b[38;5;28mself\u001b[39m\u001b[38;5;241m.\u001b[39m_unwrap_value(response\u001b[38;5;241m.\u001b[39mget(\u001b[38;5;124m\"\u001b[39m\u001b[38;5;124mvalue\u001b[39m\u001b[38;5;124m\"\u001b[39m, \u001b[38;5;28;01mNone\u001b[39;00m))\n\u001b[0;32m    356\u001b[0m     \u001b[38;5;28;01mreturn\u001b[39;00m response\n",
      "File \u001b[1;32m~\\AppData\\Local\\Programs\\Python\\Python312\\Lib\\site-packages\\selenium\\webdriver\\remote\\errorhandler.py:229\u001b[0m, in \u001b[0;36mErrorHandler.check_response\u001b[1;34m(self, response)\u001b[0m\n\u001b[0;32m    227\u001b[0m         alert_text \u001b[38;5;241m=\u001b[39m value[\u001b[38;5;124m\"\u001b[39m\u001b[38;5;124malert\u001b[39m\u001b[38;5;124m\"\u001b[39m]\u001b[38;5;241m.\u001b[39mget(\u001b[38;5;124m\"\u001b[39m\u001b[38;5;124mtext\u001b[39m\u001b[38;5;124m\"\u001b[39m)\n\u001b[0;32m    228\u001b[0m     \u001b[38;5;28;01mraise\u001b[39;00m exception_class(message, screen, stacktrace, alert_text)  \u001b[38;5;66;03m# type: ignore[call-arg]  # mypy is not smart enough here\u001b[39;00m\n\u001b[1;32m--> 229\u001b[0m \u001b[38;5;28;01mraise\u001b[39;00m exception_class(message, screen, stacktrace)\n",
      "\u001b[1;31mStaleElementReferenceException\u001b[0m: Message: stale element reference: stale element not found in the current frame\n  (Session info: chrome=127.0.6533.100); For documentation on this error, please visit: https://www.selenium.dev/documentation/webdriver/troubleshooting/errors#stale-element-reference-exception\nStacktrace:\n\tGetHandleVerifier [0x00007FF69797EEA2+31554]\n\t(No symbol) [0x00007FF6978F7ED9]\n\t(No symbol) [0x00007FF6977B872A]\n\t(No symbol) [0x00007FF6977BE55E]\n\t(No symbol) [0x00007FF6977C0EB1]\n\t(No symbol) [0x00007FF6977C0F50]\n\t(No symbol) [0x00007FF69780AB47]\n\t(No symbol) [0x00007FF69780984C]\n\t(No symbol) [0x00007FF6977FC151]\n\t(No symbol) [0x00007FF69782D02A]\n\t(No symbol) [0x00007FF6977FBA76]\n\t(No symbol) [0x00007FF69782D240]\n\t(No symbol) [0x00007FF69784C977]\n\t(No symbol) [0x00007FF69782CDD3]\n\t(No symbol) [0x00007FF6977FA33B]\n\t(No symbol) [0x00007FF6977FAED1]\n\tGetHandleVerifier [0x00007FF697C88B1D+3217341]\n\tGetHandleVerifier [0x00007FF697CD5AE3+3532675]\n\tGetHandleVerifier [0x00007FF697CCB0E0+3489152]\n\tGetHandleVerifier [0x00007FF697A2E776+750614]\n\t(No symbol) [0x00007FF69790375F]\n\t(No symbol) [0x00007FF6978FEB14]\n\t(No symbol) [0x00007FF6978FECA2]\n\t(No symbol) [0x00007FF6978EE16F]\n\tBaseThreadInitThunk [0x00007FFFC2257374+20]\n\tRtlUserThreadStart [0x00007FFFC2BBCC91+33]\n"
     ]
    }
   ],
   "source": [
    "for x in range(len(df_prof.Links[:5])):\n",
    "    driver.find_elements(By.XPATH,\"//*[@id='global-nav-typeahead']/input\")[0].clear()\n",
    "    driver.find_elements(By.XPATH,\"//*[@id='global-nav-typeahead']/input\")[0].send_keys(df_prof.Links[x]+Keys.ENTER)\n",
    "    time.sleep(0.5)\n",
    "    # driver.find_elements(By.CLASS_NAME,\"app-aware-link\")[11].click()\n",
    "    # print(driver.find_elements(By.CSS_SELECTOR,\"span[class='image-text-lockup__text ']\")[0].text+\" \"+df_prof.Links[x])\n",
    "    # time.sleep(0.5)\n",
    "    driver.find_elements(By.CSS_SELECTOR,\"span[class='image-text-lockup__text ']\")[0].click()"
   ]
  },
  {
   "cell_type": "code",
   "execution_count": 287,
   "id": "89271bc8-0c6e-406c-b4b5-a18846c94773",
   "metadata": {},
   "outputs": [
    {
     "data": {
      "text/plain": [
       "[]"
      ]
     },
     "execution_count": 287,
     "metadata": {},
     "output_type": "execute_result"
    }
   ],
   "source": [
    "driver.find_elements(By.CSS_SELECTOR,\"span[class='image-text-lockup__text ']\")"
   ]
  },
  {
   "cell_type": "code",
   "execution_count": 310,
   "id": "1b6b6083-cb0d-4a9f-b38d-55f8ff84fbe3",
   "metadata": {},
   "outputs": [],
   "source": [
    "from tqdm import tqdm"
   ]
  },
  {
   "cell_type": "code",
   "execution_count": 315,
   "id": "7b8bc239-a692-4cba-922d-c8fc4918be99",
   "metadata": {},
   "outputs": [
    {
     "ename": "KeyboardInterrupt",
     "evalue": "",
     "output_type": "error",
     "traceback": [
      "\u001b[1;31m---------------------------------------------------------------------------\u001b[0m",
      "\u001b[1;31mKeyboardInterrupt\u001b[0m                         Traceback (most recent call last)",
      "Cell \u001b[1;32mIn[315], line 8\u001b[0m\n\u001b[0;32m      4\u001b[0m time\u001b[38;5;241m.\u001b[39msleep(\u001b[38;5;241m1.5\u001b[39m)\n\u001b[0;32m      5\u001b[0m \u001b[38;5;66;03m# driver.find_elements(By.CLASS_NAME,\"app-aware-link\")[11].click()\u001b[39;00m\n\u001b[0;32m      6\u001b[0m \u001b[38;5;66;03m# print(driver.find_elements(By.CSS_SELECTOR,\"span[class='image-text-lockup__text ']\")[0].text+\" \"+df_prof.Links[x])\u001b[39;00m\n\u001b[0;32m      7\u001b[0m \u001b[38;5;66;03m# time.sleep(0.5)\u001b[39;00m\n\u001b[1;32m----> 8\u001b[0m \u001b[43mdriver\u001b[49m\u001b[38;5;241;43m.\u001b[39;49m\u001b[43mfind_elements\u001b[49m\u001b[43m(\u001b[49m\u001b[43mBy\u001b[49m\u001b[38;5;241;43m.\u001b[39;49m\u001b[43mCSS_SELECTOR\u001b[49m\u001b[43m,\u001b[49m\u001b[38;5;124;43m\"\u001b[39;49m\u001b[38;5;124;43mspan[class=\u001b[39;49m\u001b[38;5;124;43m'\u001b[39;49m\u001b[38;5;124;43mimage-text-lockup__text \u001b[39;49m\u001b[38;5;124;43m'\u001b[39;49m\u001b[38;5;124;43m]\u001b[39;49m\u001b[38;5;124;43m\"\u001b[39;49m\u001b[43m)\u001b[49m[\u001b[38;5;241m0\u001b[39m]\u001b[38;5;241m.\u001b[39mclick()\n",
      "File \u001b[1;32m~\\AppData\\Local\\Programs\\Python\\Python312\\Lib\\site-packages\\selenium\\webdriver\\remote\\webdriver.py:778\u001b[0m, in \u001b[0;36mWebDriver.find_elements\u001b[1;34m(self, by, value)\u001b[0m\n\u001b[0;32m    774\u001b[0m     value \u001b[38;5;241m=\u001b[39m \u001b[38;5;124mf\u001b[39m\u001b[38;5;124m'\u001b[39m\u001b[38;5;124m[name=\u001b[39m\u001b[38;5;124m\"\u001b[39m\u001b[38;5;132;01m{\u001b[39;00mvalue\u001b[38;5;132;01m}\u001b[39;00m\u001b[38;5;124m\"\u001b[39m\u001b[38;5;124m]\u001b[39m\u001b[38;5;124m'\u001b[39m\n\u001b[0;32m    776\u001b[0m \u001b[38;5;66;03m# Return empty list if driver returns null\u001b[39;00m\n\u001b[0;32m    777\u001b[0m \u001b[38;5;66;03m# See https://github.com/SeleniumHQ/selenium/issues/4555\u001b[39;00m\n\u001b[1;32m--> 778\u001b[0m \u001b[38;5;28;01mreturn\u001b[39;00m \u001b[38;5;28;43mself\u001b[39;49m\u001b[38;5;241;43m.\u001b[39;49m\u001b[43mexecute\u001b[49m\u001b[43m(\u001b[49m\u001b[43mCommand\u001b[49m\u001b[38;5;241;43m.\u001b[39;49m\u001b[43mFIND_ELEMENTS\u001b[49m\u001b[43m,\u001b[49m\u001b[43m \u001b[49m\u001b[43m{\u001b[49m\u001b[38;5;124;43m\"\u001b[39;49m\u001b[38;5;124;43musing\u001b[39;49m\u001b[38;5;124;43m\"\u001b[39;49m\u001b[43m:\u001b[49m\u001b[43m \u001b[49m\u001b[43mby\u001b[49m\u001b[43m,\u001b[49m\u001b[43m \u001b[49m\u001b[38;5;124;43m\"\u001b[39;49m\u001b[38;5;124;43mvalue\u001b[39;49m\u001b[38;5;124;43m\"\u001b[39;49m\u001b[43m:\u001b[49m\u001b[43m \u001b[49m\u001b[43mvalue\u001b[49m\u001b[43m}\u001b[49m\u001b[43m)\u001b[49m[\u001b[38;5;124m\"\u001b[39m\u001b[38;5;124mvalue\u001b[39m\u001b[38;5;124m\"\u001b[39m] \u001b[38;5;129;01mor\u001b[39;00m []\n",
      "File \u001b[1;32m~\\AppData\\Local\\Programs\\Python\\Python312\\Lib\\site-packages\\selenium\\webdriver\\remote\\webdriver.py:352\u001b[0m, in \u001b[0;36mWebDriver.execute\u001b[1;34m(self, driver_command, params)\u001b[0m\n\u001b[0;32m    349\u001b[0m     \u001b[38;5;28;01melif\u001b[39;00m \u001b[38;5;124m\"\u001b[39m\u001b[38;5;124msessionId\u001b[39m\u001b[38;5;124m\"\u001b[39m \u001b[38;5;129;01mnot\u001b[39;00m \u001b[38;5;129;01min\u001b[39;00m params:\n\u001b[0;32m    350\u001b[0m         params[\u001b[38;5;124m\"\u001b[39m\u001b[38;5;124msessionId\u001b[39m\u001b[38;5;124m\"\u001b[39m] \u001b[38;5;241m=\u001b[39m \u001b[38;5;28mself\u001b[39m\u001b[38;5;241m.\u001b[39msession_id\n\u001b[1;32m--> 352\u001b[0m response \u001b[38;5;241m=\u001b[39m \u001b[38;5;28;43mself\u001b[39;49m\u001b[38;5;241;43m.\u001b[39;49m\u001b[43mcommand_executor\u001b[49m\u001b[38;5;241;43m.\u001b[39;49m\u001b[43mexecute\u001b[49m\u001b[43m(\u001b[49m\u001b[43mdriver_command\u001b[49m\u001b[43m,\u001b[49m\u001b[43m \u001b[49m\u001b[43mparams\u001b[49m\u001b[43m)\u001b[49m\n\u001b[0;32m    353\u001b[0m \u001b[38;5;28;01mif\u001b[39;00m response:\n\u001b[0;32m    354\u001b[0m     \u001b[38;5;28mself\u001b[39m\u001b[38;5;241m.\u001b[39merror_handler\u001b[38;5;241m.\u001b[39mcheck_response(response)\n",
      "File \u001b[1;32m~\\AppData\\Local\\Programs\\Python\\Python312\\Lib\\site-packages\\selenium\\webdriver\\remote\\remote_connection.py:302\u001b[0m, in \u001b[0;36mRemoteConnection.execute\u001b[1;34m(self, command, params)\u001b[0m\n\u001b[0;32m    300\u001b[0m trimmed \u001b[38;5;241m=\u001b[39m \u001b[38;5;28mself\u001b[39m\u001b[38;5;241m.\u001b[39m_trim_large_entries(params)\n\u001b[0;32m    301\u001b[0m LOGGER\u001b[38;5;241m.\u001b[39mdebug(\u001b[38;5;124m\"\u001b[39m\u001b[38;5;132;01m%s\u001b[39;00m\u001b[38;5;124m \u001b[39m\u001b[38;5;132;01m%s\u001b[39;00m\u001b[38;5;124m \u001b[39m\u001b[38;5;132;01m%s\u001b[39;00m\u001b[38;5;124m\"\u001b[39m, command_info[\u001b[38;5;241m0\u001b[39m], url, \u001b[38;5;28mstr\u001b[39m(trimmed))\n\u001b[1;32m--> 302\u001b[0m \u001b[38;5;28;01mreturn\u001b[39;00m \u001b[38;5;28;43mself\u001b[39;49m\u001b[38;5;241;43m.\u001b[39;49m\u001b[43m_request\u001b[49m\u001b[43m(\u001b[49m\u001b[43mcommand_info\u001b[49m\u001b[43m[\u001b[49m\u001b[38;5;241;43m0\u001b[39;49m\u001b[43m]\u001b[49m\u001b[43m,\u001b[49m\u001b[43m \u001b[49m\u001b[43murl\u001b[49m\u001b[43m,\u001b[49m\u001b[43m \u001b[49m\u001b[43mbody\u001b[49m\u001b[38;5;241;43m=\u001b[39;49m\u001b[43mdata\u001b[49m\u001b[43m)\u001b[49m\n",
      "File \u001b[1;32m~\\AppData\\Local\\Programs\\Python\\Python312\\Lib\\site-packages\\selenium\\webdriver\\remote\\remote_connection.py:322\u001b[0m, in \u001b[0;36mRemoteConnection._request\u001b[1;34m(self, method, url, body)\u001b[0m\n\u001b[0;32m    319\u001b[0m     body \u001b[38;5;241m=\u001b[39m \u001b[38;5;28;01mNone\u001b[39;00m\n\u001b[0;32m    321\u001b[0m \u001b[38;5;28;01mif\u001b[39;00m \u001b[38;5;28mself\u001b[39m\u001b[38;5;241m.\u001b[39mkeep_alive:\n\u001b[1;32m--> 322\u001b[0m     response \u001b[38;5;241m=\u001b[39m \u001b[38;5;28;43mself\u001b[39;49m\u001b[38;5;241;43m.\u001b[39;49m\u001b[43m_conn\u001b[49m\u001b[38;5;241;43m.\u001b[39;49m\u001b[43mrequest\u001b[49m\u001b[43m(\u001b[49m\u001b[43mmethod\u001b[49m\u001b[43m,\u001b[49m\u001b[43m \u001b[49m\u001b[43murl\u001b[49m\u001b[43m,\u001b[49m\u001b[43m \u001b[49m\u001b[43mbody\u001b[49m\u001b[38;5;241;43m=\u001b[39;49m\u001b[43mbody\u001b[49m\u001b[43m,\u001b[49m\u001b[43m \u001b[49m\u001b[43mheaders\u001b[49m\u001b[38;5;241;43m=\u001b[39;49m\u001b[43mheaders\u001b[49m\u001b[43m)\u001b[49m\n\u001b[0;32m    323\u001b[0m     statuscode \u001b[38;5;241m=\u001b[39m response\u001b[38;5;241m.\u001b[39mstatus\n\u001b[0;32m    324\u001b[0m \u001b[38;5;28;01melse\u001b[39;00m:\n",
      "File \u001b[1;32m~\\AppData\\Local\\Programs\\Python\\Python312\\Lib\\site-packages\\urllib3\\_request_methods.py:144\u001b[0m, in \u001b[0;36mRequestMethods.request\u001b[1;34m(self, method, url, body, fields, headers, json, **urlopen_kw)\u001b[0m\n\u001b[0;32m    136\u001b[0m     \u001b[38;5;28;01mreturn\u001b[39;00m \u001b[38;5;28mself\u001b[39m\u001b[38;5;241m.\u001b[39mrequest_encode_url(\n\u001b[0;32m    137\u001b[0m         method,\n\u001b[0;32m    138\u001b[0m         url,\n\u001b[1;32m   (...)\u001b[0m\n\u001b[0;32m    141\u001b[0m         \u001b[38;5;241m*\u001b[39m\u001b[38;5;241m*\u001b[39murlopen_kw,\n\u001b[0;32m    142\u001b[0m     )\n\u001b[0;32m    143\u001b[0m \u001b[38;5;28;01melse\u001b[39;00m:\n\u001b[1;32m--> 144\u001b[0m     \u001b[38;5;28;01mreturn\u001b[39;00m \u001b[38;5;28;43mself\u001b[39;49m\u001b[38;5;241;43m.\u001b[39;49m\u001b[43mrequest_encode_body\u001b[49m\u001b[43m(\u001b[49m\n\u001b[0;32m    145\u001b[0m \u001b[43m        \u001b[49m\u001b[43mmethod\u001b[49m\u001b[43m,\u001b[49m\u001b[43m \u001b[49m\u001b[43murl\u001b[49m\u001b[43m,\u001b[49m\u001b[43m \u001b[49m\u001b[43mfields\u001b[49m\u001b[38;5;241;43m=\u001b[39;49m\u001b[43mfields\u001b[49m\u001b[43m,\u001b[49m\u001b[43m \u001b[49m\u001b[43mheaders\u001b[49m\u001b[38;5;241;43m=\u001b[39;49m\u001b[43mheaders\u001b[49m\u001b[43m,\u001b[49m\u001b[43m \u001b[49m\u001b[38;5;241;43m*\u001b[39;49m\u001b[38;5;241;43m*\u001b[39;49m\u001b[43murlopen_kw\u001b[49m\n\u001b[0;32m    146\u001b[0m \u001b[43m    \u001b[49m\u001b[43m)\u001b[49m\n",
      "File \u001b[1;32m~\\AppData\\Local\\Programs\\Python\\Python312\\Lib\\site-packages\\urllib3\\_request_methods.py:279\u001b[0m, in \u001b[0;36mRequestMethods.request_encode_body\u001b[1;34m(self, method, url, fields, headers, encode_multipart, multipart_boundary, **urlopen_kw)\u001b[0m\n\u001b[0;32m    275\u001b[0m     extra_kw[\u001b[38;5;124m\"\u001b[39m\u001b[38;5;124mheaders\u001b[39m\u001b[38;5;124m\"\u001b[39m]\u001b[38;5;241m.\u001b[39msetdefault(\u001b[38;5;124m\"\u001b[39m\u001b[38;5;124mContent-Type\u001b[39m\u001b[38;5;124m\"\u001b[39m, content_type)\n\u001b[0;32m    277\u001b[0m extra_kw\u001b[38;5;241m.\u001b[39mupdate(urlopen_kw)\n\u001b[1;32m--> 279\u001b[0m \u001b[38;5;28;01mreturn\u001b[39;00m \u001b[38;5;28;43mself\u001b[39;49m\u001b[38;5;241;43m.\u001b[39;49m\u001b[43murlopen\u001b[49m\u001b[43m(\u001b[49m\u001b[43mmethod\u001b[49m\u001b[43m,\u001b[49m\u001b[43m \u001b[49m\u001b[43murl\u001b[49m\u001b[43m,\u001b[49m\u001b[43m \u001b[49m\u001b[38;5;241;43m*\u001b[39;49m\u001b[38;5;241;43m*\u001b[39;49m\u001b[43mextra_kw\u001b[49m\u001b[43m)\u001b[49m\n",
      "File \u001b[1;32m~\\AppData\\Local\\Programs\\Python\\Python312\\Lib\\site-packages\\urllib3\\poolmanager.py:444\u001b[0m, in \u001b[0;36mPoolManager.urlopen\u001b[1;34m(self, method, url, redirect, **kw)\u001b[0m\n\u001b[0;32m    442\u001b[0m     response \u001b[38;5;241m=\u001b[39m conn\u001b[38;5;241m.\u001b[39murlopen(method, url, \u001b[38;5;241m*\u001b[39m\u001b[38;5;241m*\u001b[39mkw)\n\u001b[0;32m    443\u001b[0m \u001b[38;5;28;01melse\u001b[39;00m:\n\u001b[1;32m--> 444\u001b[0m     response \u001b[38;5;241m=\u001b[39m \u001b[43mconn\u001b[49m\u001b[38;5;241;43m.\u001b[39;49m\u001b[43murlopen\u001b[49m\u001b[43m(\u001b[49m\u001b[43mmethod\u001b[49m\u001b[43m,\u001b[49m\u001b[43m \u001b[49m\u001b[43mu\u001b[49m\u001b[38;5;241;43m.\u001b[39;49m\u001b[43mrequest_uri\u001b[49m\u001b[43m,\u001b[49m\u001b[43m \u001b[49m\u001b[38;5;241;43m*\u001b[39;49m\u001b[38;5;241;43m*\u001b[39;49m\u001b[43mkw\u001b[49m\u001b[43m)\u001b[49m\n\u001b[0;32m    446\u001b[0m redirect_location \u001b[38;5;241m=\u001b[39m redirect \u001b[38;5;129;01mand\u001b[39;00m response\u001b[38;5;241m.\u001b[39mget_redirect_location()\n\u001b[0;32m    447\u001b[0m \u001b[38;5;28;01mif\u001b[39;00m \u001b[38;5;129;01mnot\u001b[39;00m redirect_location:\n",
      "File \u001b[1;32m~\\AppData\\Local\\Programs\\Python\\Python312\\Lib\\site-packages\\urllib3\\connectionpool.py:793\u001b[0m, in \u001b[0;36mHTTPConnectionPool.urlopen\u001b[1;34m(self, method, url, body, headers, retries, redirect, assert_same_host, timeout, pool_timeout, release_conn, chunked, body_pos, preload_content, decode_content, **response_kw)\u001b[0m\n\u001b[0;32m    790\u001b[0m response_conn \u001b[38;5;241m=\u001b[39m conn \u001b[38;5;28;01mif\u001b[39;00m \u001b[38;5;129;01mnot\u001b[39;00m release_conn \u001b[38;5;28;01melse\u001b[39;00m \u001b[38;5;28;01mNone\u001b[39;00m\n\u001b[0;32m    792\u001b[0m \u001b[38;5;66;03m# Make the request on the HTTPConnection object\u001b[39;00m\n\u001b[1;32m--> 793\u001b[0m response \u001b[38;5;241m=\u001b[39m \u001b[38;5;28;43mself\u001b[39;49m\u001b[38;5;241;43m.\u001b[39;49m\u001b[43m_make_request\u001b[49m\u001b[43m(\u001b[49m\n\u001b[0;32m    794\u001b[0m \u001b[43m    \u001b[49m\u001b[43mconn\u001b[49m\u001b[43m,\u001b[49m\n\u001b[0;32m    795\u001b[0m \u001b[43m    \u001b[49m\u001b[43mmethod\u001b[49m\u001b[43m,\u001b[49m\n\u001b[0;32m    796\u001b[0m \u001b[43m    \u001b[49m\u001b[43murl\u001b[49m\u001b[43m,\u001b[49m\n\u001b[0;32m    797\u001b[0m \u001b[43m    \u001b[49m\u001b[43mtimeout\u001b[49m\u001b[38;5;241;43m=\u001b[39;49m\u001b[43mtimeout_obj\u001b[49m\u001b[43m,\u001b[49m\n\u001b[0;32m    798\u001b[0m \u001b[43m    \u001b[49m\u001b[43mbody\u001b[49m\u001b[38;5;241;43m=\u001b[39;49m\u001b[43mbody\u001b[49m\u001b[43m,\u001b[49m\n\u001b[0;32m    799\u001b[0m \u001b[43m    \u001b[49m\u001b[43mheaders\u001b[49m\u001b[38;5;241;43m=\u001b[39;49m\u001b[43mheaders\u001b[49m\u001b[43m,\u001b[49m\n\u001b[0;32m    800\u001b[0m \u001b[43m    \u001b[49m\u001b[43mchunked\u001b[49m\u001b[38;5;241;43m=\u001b[39;49m\u001b[43mchunked\u001b[49m\u001b[43m,\u001b[49m\n\u001b[0;32m    801\u001b[0m \u001b[43m    \u001b[49m\u001b[43mretries\u001b[49m\u001b[38;5;241;43m=\u001b[39;49m\u001b[43mretries\u001b[49m\u001b[43m,\u001b[49m\n\u001b[0;32m    802\u001b[0m \u001b[43m    \u001b[49m\u001b[43mresponse_conn\u001b[49m\u001b[38;5;241;43m=\u001b[39;49m\u001b[43mresponse_conn\u001b[49m\u001b[43m,\u001b[49m\n\u001b[0;32m    803\u001b[0m \u001b[43m    \u001b[49m\u001b[43mpreload_content\u001b[49m\u001b[38;5;241;43m=\u001b[39;49m\u001b[43mpreload_content\u001b[49m\u001b[43m,\u001b[49m\n\u001b[0;32m    804\u001b[0m \u001b[43m    \u001b[49m\u001b[43mdecode_content\u001b[49m\u001b[38;5;241;43m=\u001b[39;49m\u001b[43mdecode_content\u001b[49m\u001b[43m,\u001b[49m\n\u001b[0;32m    805\u001b[0m \u001b[43m    \u001b[49m\u001b[38;5;241;43m*\u001b[39;49m\u001b[38;5;241;43m*\u001b[39;49m\u001b[43mresponse_kw\u001b[49m\u001b[43m,\u001b[49m\n\u001b[0;32m    806\u001b[0m \u001b[43m\u001b[49m\u001b[43m)\u001b[49m\n\u001b[0;32m    808\u001b[0m \u001b[38;5;66;03m# Everything went great!\u001b[39;00m\n\u001b[0;32m    809\u001b[0m clean_exit \u001b[38;5;241m=\u001b[39m \u001b[38;5;28;01mTrue\u001b[39;00m\n",
      "File \u001b[1;32m~\\AppData\\Local\\Programs\\Python\\Python312\\Lib\\site-packages\\urllib3\\connectionpool.py:537\u001b[0m, in \u001b[0;36mHTTPConnectionPool._make_request\u001b[1;34m(self, conn, method, url, body, headers, retries, timeout, chunked, response_conn, preload_content, decode_content, enforce_content_length)\u001b[0m\n\u001b[0;32m    535\u001b[0m \u001b[38;5;66;03m# Receive the response from the server\u001b[39;00m\n\u001b[0;32m    536\u001b[0m \u001b[38;5;28;01mtry\u001b[39;00m:\n\u001b[1;32m--> 537\u001b[0m     response \u001b[38;5;241m=\u001b[39m \u001b[43mconn\u001b[49m\u001b[38;5;241;43m.\u001b[39;49m\u001b[43mgetresponse\u001b[49m\u001b[43m(\u001b[49m\u001b[43m)\u001b[49m\n\u001b[0;32m    538\u001b[0m \u001b[38;5;28;01mexcept\u001b[39;00m (BaseSSLError, \u001b[38;5;167;01mOSError\u001b[39;00m) \u001b[38;5;28;01mas\u001b[39;00m e:\n\u001b[0;32m    539\u001b[0m     \u001b[38;5;28mself\u001b[39m\u001b[38;5;241m.\u001b[39m_raise_timeout(err\u001b[38;5;241m=\u001b[39me, url\u001b[38;5;241m=\u001b[39murl, timeout_value\u001b[38;5;241m=\u001b[39mread_timeout)\n",
      "File \u001b[1;32m~\\AppData\\Local\\Programs\\Python\\Python312\\Lib\\site-packages\\urllib3\\connection.py:466\u001b[0m, in \u001b[0;36mHTTPConnection.getresponse\u001b[1;34m(self)\u001b[0m\n\u001b[0;32m    463\u001b[0m \u001b[38;5;28;01mfrom\u001b[39;00m \u001b[38;5;21;01m.\u001b[39;00m\u001b[38;5;21;01mresponse\u001b[39;00m \u001b[38;5;28;01mimport\u001b[39;00m HTTPResponse\n\u001b[0;32m    465\u001b[0m \u001b[38;5;66;03m# Get the response from http.client.HTTPConnection\u001b[39;00m\n\u001b[1;32m--> 466\u001b[0m httplib_response \u001b[38;5;241m=\u001b[39m \u001b[38;5;28;43msuper\u001b[39;49m\u001b[43m(\u001b[49m\u001b[43m)\u001b[49m\u001b[38;5;241;43m.\u001b[39;49m\u001b[43mgetresponse\u001b[49m\u001b[43m(\u001b[49m\u001b[43m)\u001b[49m\n\u001b[0;32m    468\u001b[0m \u001b[38;5;28;01mtry\u001b[39;00m:\n\u001b[0;32m    469\u001b[0m     assert_header_parsing(httplib_response\u001b[38;5;241m.\u001b[39mmsg)\n",
      "File \u001b[1;32m~\\AppData\\Local\\Programs\\Python\\Python312\\Lib\\http\\client.py:1428\u001b[0m, in \u001b[0;36mHTTPConnection.getresponse\u001b[1;34m(self)\u001b[0m\n\u001b[0;32m   1426\u001b[0m \u001b[38;5;28;01mtry\u001b[39;00m:\n\u001b[0;32m   1427\u001b[0m     \u001b[38;5;28;01mtry\u001b[39;00m:\n\u001b[1;32m-> 1428\u001b[0m         \u001b[43mresponse\u001b[49m\u001b[38;5;241;43m.\u001b[39;49m\u001b[43mbegin\u001b[49m\u001b[43m(\u001b[49m\u001b[43m)\u001b[49m\n\u001b[0;32m   1429\u001b[0m     \u001b[38;5;28;01mexcept\u001b[39;00m \u001b[38;5;167;01mConnectionError\u001b[39;00m:\n\u001b[0;32m   1430\u001b[0m         \u001b[38;5;28mself\u001b[39m\u001b[38;5;241m.\u001b[39mclose()\n",
      "File \u001b[1;32m~\\AppData\\Local\\Programs\\Python\\Python312\\Lib\\http\\client.py:331\u001b[0m, in \u001b[0;36mHTTPResponse.begin\u001b[1;34m(self)\u001b[0m\n\u001b[0;32m    329\u001b[0m \u001b[38;5;66;03m# read until we get a non-100 response\u001b[39;00m\n\u001b[0;32m    330\u001b[0m \u001b[38;5;28;01mwhile\u001b[39;00m \u001b[38;5;28;01mTrue\u001b[39;00m:\n\u001b[1;32m--> 331\u001b[0m     version, status, reason \u001b[38;5;241m=\u001b[39m \u001b[38;5;28;43mself\u001b[39;49m\u001b[38;5;241;43m.\u001b[39;49m\u001b[43m_read_status\u001b[49m\u001b[43m(\u001b[49m\u001b[43m)\u001b[49m\n\u001b[0;32m    332\u001b[0m     \u001b[38;5;28;01mif\u001b[39;00m status \u001b[38;5;241m!=\u001b[39m CONTINUE:\n\u001b[0;32m    333\u001b[0m         \u001b[38;5;28;01mbreak\u001b[39;00m\n",
      "File \u001b[1;32m~\\AppData\\Local\\Programs\\Python\\Python312\\Lib\\http\\client.py:292\u001b[0m, in \u001b[0;36mHTTPResponse._read_status\u001b[1;34m(self)\u001b[0m\n\u001b[0;32m    291\u001b[0m \u001b[38;5;28;01mdef\u001b[39;00m \u001b[38;5;21m_read_status\u001b[39m(\u001b[38;5;28mself\u001b[39m):\n\u001b[1;32m--> 292\u001b[0m     line \u001b[38;5;241m=\u001b[39m \u001b[38;5;28mstr\u001b[39m(\u001b[38;5;28;43mself\u001b[39;49m\u001b[38;5;241;43m.\u001b[39;49m\u001b[43mfp\u001b[49m\u001b[38;5;241;43m.\u001b[39;49m\u001b[43mreadline\u001b[49m\u001b[43m(\u001b[49m\u001b[43m_MAXLINE\u001b[49m\u001b[43m \u001b[49m\u001b[38;5;241;43m+\u001b[39;49m\u001b[43m \u001b[49m\u001b[38;5;241;43m1\u001b[39;49m\u001b[43m)\u001b[49m, \u001b[38;5;124m\"\u001b[39m\u001b[38;5;124miso-8859-1\u001b[39m\u001b[38;5;124m\"\u001b[39m)\n\u001b[0;32m    293\u001b[0m     \u001b[38;5;28;01mif\u001b[39;00m \u001b[38;5;28mlen\u001b[39m(line) \u001b[38;5;241m>\u001b[39m _MAXLINE:\n\u001b[0;32m    294\u001b[0m         \u001b[38;5;28;01mraise\u001b[39;00m LineTooLong(\u001b[38;5;124m\"\u001b[39m\u001b[38;5;124mstatus line\u001b[39m\u001b[38;5;124m\"\u001b[39m)\n",
      "File \u001b[1;32m~\\AppData\\Local\\Programs\\Python\\Python312\\Lib\\socket.py:708\u001b[0m, in \u001b[0;36mSocketIO.readinto\u001b[1;34m(self, b)\u001b[0m\n\u001b[0;32m    706\u001b[0m \u001b[38;5;28;01mwhile\u001b[39;00m \u001b[38;5;28;01mTrue\u001b[39;00m:\n\u001b[0;32m    707\u001b[0m     \u001b[38;5;28;01mtry\u001b[39;00m:\n\u001b[1;32m--> 708\u001b[0m         \u001b[38;5;28;01mreturn\u001b[39;00m \u001b[38;5;28;43mself\u001b[39;49m\u001b[38;5;241;43m.\u001b[39;49m\u001b[43m_sock\u001b[49m\u001b[38;5;241;43m.\u001b[39;49m\u001b[43mrecv_into\u001b[49m\u001b[43m(\u001b[49m\u001b[43mb\u001b[49m\u001b[43m)\u001b[49m\n\u001b[0;32m    709\u001b[0m     \u001b[38;5;28;01mexcept\u001b[39;00m timeout:\n\u001b[0;32m    710\u001b[0m         \u001b[38;5;28mself\u001b[39m\u001b[38;5;241m.\u001b[39m_timeout_occurred \u001b[38;5;241m=\u001b[39m \u001b[38;5;28;01mTrue\u001b[39;00m\n",
      "\u001b[1;31mKeyboardInterrupt\u001b[0m: "
     ]
    }
   ],
   "source": [
    "for x in range(10):\n",
    "    driver.find_elements(By.XPATH,\"//*[@id='global-nav-typeahead']/input\")[0].clear()\n",
    "    driver.find_elements(By.XPATH,\"//*[@id='global-nav-typeahead']/input\")[0].send_keys(df_prof.Links[x]+Keys.ENTER)\n",
    "    time.sleep(0.5)\n",
    "    # driver.find_elements(By.CLASS_NAME,\"app-aware-link\")[11].click()\n",
    "    # print(driver.find_elements(By.CSS_SELECTOR,\"span[class='image-text-lockup__text ']\")[0].text+\" \"+df_prof.Links[x])\n",
    "    # time.sleep(0.5)\n",
    "    driver.find_elements(By.CSS_SELECTOR,\"span[class='image-text-lockup__text ']\")[0].click()"
   ]
  },
  {
   "cell_type": "code",
   "execution_count": 335,
   "id": "8368ad9b-be01-41d2-bb35-a29e83f330b7",
   "metadata": {},
   "outputs": [
    {
     "ename": "ElementNotInteractableException",
     "evalue": "Message: element not interactable\n  (Session info: chrome=127.0.6533.100)\nStacktrace:\n\tGetHandleVerifier [0x00007FF69797EEA2+31554]\n\t(No symbol) [0x00007FF6978F7ED9]\n\t(No symbol) [0x00007FF6977B8559]\n\t(No symbol) [0x00007FF697801D73]\n\t(No symbol) [0x00007FF6977FFEDB]\n\t(No symbol) [0x00007FF69782D02A]\n\t(No symbol) [0x00007FF6977FBA76]\n\t(No symbol) [0x00007FF69782D240]\n\t(No symbol) [0x00007FF69784C977]\n\t(No symbol) [0x00007FF69782CDD3]\n\t(No symbol) [0x00007FF6977FA33B]\n\t(No symbol) [0x00007FF6977FAED1]\n\tGetHandleVerifier [0x00007FF697C88B1D+3217341]\n\tGetHandleVerifier [0x00007FF697CD5AE3+3532675]\n\tGetHandleVerifier [0x00007FF697CCB0E0+3489152]\n\tGetHandleVerifier [0x00007FF697A2E776+750614]\n\t(No symbol) [0x00007FF69790375F]\n\t(No symbol) [0x00007FF6978FEB14]\n\t(No symbol) [0x00007FF6978FECA2]\n\t(No symbol) [0x00007FF6978EE16F]\n\tBaseThreadInitThunk [0x00007FFFC2257374+20]\n\tRtlUserThreadStart [0x00007FFFC2BBCC91+33]\n",
     "output_type": "error",
     "traceback": [
      "\u001b[1;31m---------------------------------------------------------------------------\u001b[0m",
      "\u001b[1;31mElementNotInteractableException\u001b[0m           Traceback (most recent call last)",
      "Cell \u001b[1;32mIn[335], line 5\u001b[0m\n\u001b[0;32m      3\u001b[0m \u001b[38;5;66;03m# driver.find_elements(By.CSS_SELECTOR,\"span[class='image-text-lockup__text ']\")[0].send_keys(df_prof.Links[x]+Keys.ENTER)\u001b[39;00m\n\u001b[0;32m      4\u001b[0m time\u001b[38;5;241m.\u001b[39msleep(\u001b[38;5;241m0.5\u001b[39m)\n\u001b[1;32m----> 5\u001b[0m \u001b[43mdriver\u001b[49m\u001b[38;5;241;43m.\u001b[39;49m\u001b[43mfind_elements\u001b[49m\u001b[43m(\u001b[49m\u001b[43mBy\u001b[49m\u001b[38;5;241;43m.\u001b[39;49m\u001b[43mCSS_SELECTOR\u001b[49m\u001b[43m,\u001b[49m\u001b[38;5;124;43m\"\u001b[39;49m\u001b[38;5;124;43mspan[class=\u001b[39;49m\u001b[38;5;124;43m'\u001b[39;49m\u001b[38;5;124;43mimage-text-lockup__text \u001b[39;49m\u001b[38;5;124;43m'\u001b[39;49m\u001b[38;5;124;43m]\u001b[39;49m\u001b[38;5;124;43m\"\u001b[39;49m\u001b[43m)\u001b[49m\u001b[43m[\u001b[49m\u001b[38;5;241;43m0\u001b[39;49m\u001b[43m]\u001b[49m\u001b[38;5;241;43m.\u001b[39;49m\u001b[43msend_keys\u001b[49m\u001b[43m(\u001b[49m\u001b[43mdf_prof\u001b[49m\u001b[38;5;241;43m.\u001b[39;49m\u001b[43mLinks\u001b[49m\u001b[43m[\u001b[49m\u001b[43mx\u001b[49m\u001b[43m]\u001b[49m\u001b[38;5;241;43m+\u001b[39;49m\u001b[43mKeys\u001b[49m\u001b[38;5;241;43m.\u001b[39;49m\u001b[43mENTER\u001b[49m\u001b[43m)\u001b[49m\n\u001b[0;32m      7\u001b[0m \u001b[38;5;66;03m# driver.find_elements(By.CLASS_NAME,\"app-aware-link\")[11].click()\u001b[39;00m\n\u001b[0;32m      8\u001b[0m \u001b[38;5;66;03m# print(driver.find_elements(By.CSS_SELECTOR,\"span[class='image-text-lockup__text ']\")[0].text+\" \"+df_prof.Links[x])\u001b[39;00m\n\u001b[0;32m      9\u001b[0m \u001b[38;5;66;03m# time.sleep(0.5)\u001b[39;00m\n\u001b[0;32m     10\u001b[0m \u001b[38;5;66;03m# driver.find_elements(By.CSS_SELECTOR,\"span[class='image-text-lockup__text ']\")[0].click()\u001b[39;00m\n",
      "File \u001b[1;32m~\\AppData\\Local\\Programs\\Python\\Python312\\Lib\\site-packages\\selenium\\webdriver\\remote\\webelement.py:231\u001b[0m, in \u001b[0;36mWebElement.send_keys\u001b[1;34m(self, *value)\u001b[0m\n\u001b[0;32m    228\u001b[0m             remote_files\u001b[38;5;241m.\u001b[39mappend(\u001b[38;5;28mself\u001b[39m\u001b[38;5;241m.\u001b[39m_upload(file))\n\u001b[0;32m    229\u001b[0m         value \u001b[38;5;241m=\u001b[39m \u001b[38;5;124m\"\u001b[39m\u001b[38;5;130;01m\\n\u001b[39;00m\u001b[38;5;124m\"\u001b[39m\u001b[38;5;241m.\u001b[39mjoin(remote_files)\n\u001b[1;32m--> 231\u001b[0m \u001b[38;5;28;43mself\u001b[39;49m\u001b[38;5;241;43m.\u001b[39;49m\u001b[43m_execute\u001b[49m\u001b[43m(\u001b[49m\n\u001b[0;32m    232\u001b[0m \u001b[43m    \u001b[49m\u001b[43mCommand\u001b[49m\u001b[38;5;241;43m.\u001b[39;49m\u001b[43mSEND_KEYS_TO_ELEMENT\u001b[49m\u001b[43m,\u001b[49m\u001b[43m \u001b[49m\u001b[43m{\u001b[49m\u001b[38;5;124;43m\"\u001b[39;49m\u001b[38;5;124;43mtext\u001b[39;49m\u001b[38;5;124;43m\"\u001b[39;49m\u001b[43m:\u001b[49m\u001b[43m \u001b[49m\u001b[38;5;124;43m\"\u001b[39;49m\u001b[38;5;124;43m\"\u001b[39;49m\u001b[38;5;241;43m.\u001b[39;49m\u001b[43mjoin\u001b[49m\u001b[43m(\u001b[49m\u001b[43mkeys_to_typing\u001b[49m\u001b[43m(\u001b[49m\u001b[43mvalue\u001b[49m\u001b[43m)\u001b[49m\u001b[43m)\u001b[49m\u001b[43m,\u001b[49m\u001b[43m \u001b[49m\u001b[38;5;124;43m\"\u001b[39;49m\u001b[38;5;124;43mvalue\u001b[39;49m\u001b[38;5;124;43m\"\u001b[39;49m\u001b[43m:\u001b[49m\u001b[43m \u001b[49m\u001b[43mkeys_to_typing\u001b[49m\u001b[43m(\u001b[49m\u001b[43mvalue\u001b[49m\u001b[43m)\u001b[49m\u001b[43m}\u001b[49m\n\u001b[0;32m    233\u001b[0m \u001b[43m\u001b[49m\u001b[43m)\u001b[49m\n",
      "File \u001b[1;32m~\\AppData\\Local\\Programs\\Python\\Python312\\Lib\\site-packages\\selenium\\webdriver\\remote\\webelement.py:395\u001b[0m, in \u001b[0;36mWebElement._execute\u001b[1;34m(self, command, params)\u001b[0m\n\u001b[0;32m    393\u001b[0m     params \u001b[38;5;241m=\u001b[39m {}\n\u001b[0;32m    394\u001b[0m params[\u001b[38;5;124m\"\u001b[39m\u001b[38;5;124mid\u001b[39m\u001b[38;5;124m\"\u001b[39m] \u001b[38;5;241m=\u001b[39m \u001b[38;5;28mself\u001b[39m\u001b[38;5;241m.\u001b[39m_id\n\u001b[1;32m--> 395\u001b[0m \u001b[38;5;28;01mreturn\u001b[39;00m \u001b[38;5;28;43mself\u001b[39;49m\u001b[38;5;241;43m.\u001b[39;49m\u001b[43m_parent\u001b[49m\u001b[38;5;241;43m.\u001b[39;49m\u001b[43mexecute\u001b[49m\u001b[43m(\u001b[49m\u001b[43mcommand\u001b[49m\u001b[43m,\u001b[49m\u001b[43m \u001b[49m\u001b[43mparams\u001b[49m\u001b[43m)\u001b[49m\n",
      "File \u001b[1;32m~\\AppData\\Local\\Programs\\Python\\Python312\\Lib\\site-packages\\selenium\\webdriver\\remote\\webdriver.py:354\u001b[0m, in \u001b[0;36mWebDriver.execute\u001b[1;34m(self, driver_command, params)\u001b[0m\n\u001b[0;32m    352\u001b[0m response \u001b[38;5;241m=\u001b[39m \u001b[38;5;28mself\u001b[39m\u001b[38;5;241m.\u001b[39mcommand_executor\u001b[38;5;241m.\u001b[39mexecute(driver_command, params)\n\u001b[0;32m    353\u001b[0m \u001b[38;5;28;01mif\u001b[39;00m response:\n\u001b[1;32m--> 354\u001b[0m     \u001b[38;5;28;43mself\u001b[39;49m\u001b[38;5;241;43m.\u001b[39;49m\u001b[43merror_handler\u001b[49m\u001b[38;5;241;43m.\u001b[39;49m\u001b[43mcheck_response\u001b[49m\u001b[43m(\u001b[49m\u001b[43mresponse\u001b[49m\u001b[43m)\u001b[49m\n\u001b[0;32m    355\u001b[0m     response[\u001b[38;5;124m\"\u001b[39m\u001b[38;5;124mvalue\u001b[39m\u001b[38;5;124m\"\u001b[39m] \u001b[38;5;241m=\u001b[39m \u001b[38;5;28mself\u001b[39m\u001b[38;5;241m.\u001b[39m_unwrap_value(response\u001b[38;5;241m.\u001b[39mget(\u001b[38;5;124m\"\u001b[39m\u001b[38;5;124mvalue\u001b[39m\u001b[38;5;124m\"\u001b[39m, \u001b[38;5;28;01mNone\u001b[39;00m))\n\u001b[0;32m    356\u001b[0m     \u001b[38;5;28;01mreturn\u001b[39;00m response\n",
      "File \u001b[1;32m~\\AppData\\Local\\Programs\\Python\\Python312\\Lib\\site-packages\\selenium\\webdriver\\remote\\errorhandler.py:229\u001b[0m, in \u001b[0;36mErrorHandler.check_response\u001b[1;34m(self, response)\u001b[0m\n\u001b[0;32m    227\u001b[0m         alert_text \u001b[38;5;241m=\u001b[39m value[\u001b[38;5;124m\"\u001b[39m\u001b[38;5;124malert\u001b[39m\u001b[38;5;124m\"\u001b[39m]\u001b[38;5;241m.\u001b[39mget(\u001b[38;5;124m\"\u001b[39m\u001b[38;5;124mtext\u001b[39m\u001b[38;5;124m\"\u001b[39m)\n\u001b[0;32m    228\u001b[0m     \u001b[38;5;28;01mraise\u001b[39;00m exception_class(message, screen, stacktrace, alert_text)  \u001b[38;5;66;03m# type: ignore[call-arg]  # mypy is not smart enough here\u001b[39;00m\n\u001b[1;32m--> 229\u001b[0m \u001b[38;5;28;01mraise\u001b[39;00m exception_class(message, screen, stacktrace)\n",
      "\u001b[1;31mElementNotInteractableException\u001b[0m: Message: element not interactable\n  (Session info: chrome=127.0.6533.100)\nStacktrace:\n\tGetHandleVerifier [0x00007FF69797EEA2+31554]\n\t(No symbol) [0x00007FF6978F7ED9]\n\t(No symbol) [0x00007FF6977B8559]\n\t(No symbol) [0x00007FF697801D73]\n\t(No symbol) [0x00007FF6977FFEDB]\n\t(No symbol) [0x00007FF69782D02A]\n\t(No symbol) [0x00007FF6977FBA76]\n\t(No symbol) [0x00007FF69782D240]\n\t(No symbol) [0x00007FF69784C977]\n\t(No symbol) [0x00007FF69782CDD3]\n\t(No symbol) [0x00007FF6977FA33B]\n\t(No symbol) [0x00007FF6977FAED1]\n\tGetHandleVerifier [0x00007FF697C88B1D+3217341]\n\tGetHandleVerifier [0x00007FF697CD5AE3+3532675]\n\tGetHandleVerifier [0x00007FF697CCB0E0+3489152]\n\tGetHandleVerifier [0x00007FF697A2E776+750614]\n\t(No symbol) [0x00007FF69790375F]\n\t(No symbol) [0x00007FF6978FEB14]\n\t(No symbol) [0x00007FF6978FECA2]\n\t(No symbol) [0x00007FF6978EE16F]\n\tBaseThreadInitThunk [0x00007FFFC2257374+20]\n\tRtlUserThreadStart [0x00007FFFC2BBCC91+33]\n"
     ]
    }
   ],
   "source": [
    "x=1\n",
    "driver.find_elements(By.XPATH,\"//*[@id='global-nav-typeahead']/input\")[0].clear()\n",
    "# driver.find_elements(By.CSS_SELECTOR,\"span[class='image-text-lockup__text ']\")[0].send_keys(df_prof.Links[x]+Keys.ENTER)\n",
    "time.sleep(0.5)\n",
    "driver.find_elements(By.CSS_SELECTOR,\"span[class='image-text-lockup__text ']\")[0].send_keys(df_prof.Links[x]+Keys.ENTER)\n",
    "\n",
    "# driver.find_elements(By.CLASS_NAME,\"app-aware-link\")[11].click()\n",
    "# print(driver.find_elements(By.CSS_SELECTOR,\"span[class='image-text-lockup__text ']\")[0].text+\" \"+df_prof.Links[x])\n",
    "# time.sleep(0.5)\n",
    "# driver.find_elements(By.CSS_SELECTOR,\"span[class='image-text-lockup__text ']\")[0].click()"
   ]
  },
  {
   "cell_type": "code",
   "execution_count": 326,
   "id": "bd92ca05-96bc-4d5f-9ea4-c725274732c7",
   "metadata": {},
   "outputs": [
    {
     "data": {
      "text/plain": [
       "'View full profile'"
      ]
     },
     "execution_count": 326,
     "metadata": {},
     "output_type": "execute_result"
    }
   ],
   "source": [
    "driver.find_elements(By.CSS_SELECTOR,\"span[class='image-text-lockup__text ']\")[0].text"
   ]
  },
  {
   "cell_type": "code",
   "execution_count": 334,
   "id": "3a0cfd9d-e409-451b-80ed-dd3741d38aba",
   "metadata": {},
   "outputs": [
    {
     "ename": "ElementNotInteractableException",
     "evalue": "Message: element not interactable\n  (Session info: chrome=127.0.6533.100)\nStacktrace:\n\tGetHandleVerifier [0x00007FF69797EEA2+31554]\n\t(No symbol) [0x00007FF6978F7ED9]\n\t(No symbol) [0x00007FF6977B8559]\n\t(No symbol) [0x00007FF6977FDDD9]\n\t(No symbol) [0x00007FF69782D02A]\n\t(No symbol) [0x00007FF6977FBA76]\n\t(No symbol) [0x00007FF69782D240]\n\t(No symbol) [0x00007FF69784C977]\n\t(No symbol) [0x00007FF69782CDD3]\n\t(No symbol) [0x00007FF6977FA33B]\n\t(No symbol) [0x00007FF6977FAED1]\n\tGetHandleVerifier [0x00007FF697C88B1D+3217341]\n\tGetHandleVerifier [0x00007FF697CD5AE3+3532675]\n\tGetHandleVerifier [0x00007FF697CCB0E0+3489152]\n\tGetHandleVerifier [0x00007FF697A2E776+750614]\n\t(No symbol) [0x00007FF69790375F]\n\t(No symbol) [0x00007FF6978FEB14]\n\t(No symbol) [0x00007FF6978FECA2]\n\t(No symbol) [0x00007FF6978EE16F]\n\tBaseThreadInitThunk [0x00007FFFC2257374+20]\n\tRtlUserThreadStart [0x00007FFFC2BBCC91+33]\n",
     "output_type": "error",
     "traceback": [
      "\u001b[1;31m---------------------------------------------------------------------------\u001b[0m",
      "\u001b[1;31mElementNotInteractableException\u001b[0m           Traceback (most recent call last)",
      "Cell \u001b[1;32mIn[334], line 2\u001b[0m\n\u001b[0;32m      1\u001b[0m x\u001b[38;5;241m=\u001b[39m\u001b[38;5;241m1\u001b[39m\n\u001b[1;32m----> 2\u001b[0m \u001b[43mdriver\u001b[49m\u001b[38;5;241;43m.\u001b[39;49m\u001b[43mfind_elements\u001b[49m\u001b[43m(\u001b[49m\u001b[43mBy\u001b[49m\u001b[38;5;241;43m.\u001b[39;49m\u001b[43mXPATH\u001b[49m\u001b[43m,\u001b[49m\u001b[38;5;124;43m\"\u001b[39;49m\u001b[38;5;124;43m//*[@id=\u001b[39;49m\u001b[38;5;124;43m'\u001b[39;49m\u001b[38;5;124;43mglobal-nav-typeahead\u001b[39;49m\u001b[38;5;124;43m'\u001b[39;49m\u001b[38;5;124;43m]/input\u001b[39;49m\u001b[38;5;124;43m\"\u001b[39;49m\u001b[43m)\u001b[49m\u001b[43m[\u001b[49m\u001b[38;5;241;43m0\u001b[39;49m\u001b[43m]\u001b[49m\u001b[38;5;241;43m.\u001b[39;49m\u001b[43mclear\u001b[49m\u001b[43m(\u001b[49m\u001b[43m)\u001b[49m\n\u001b[0;32m      3\u001b[0m driver\u001b[38;5;241m.\u001b[39mfind_elements(By\u001b[38;5;241m.\u001b[39mXPATH,\u001b[38;5;124m\"\u001b[39m\u001b[38;5;124m//*[@id=\u001b[39m\u001b[38;5;124m'\u001b[39m\u001b[38;5;124mglobal-nav-typeahead\u001b[39m\u001b[38;5;124m'\u001b[39m\u001b[38;5;124m]/input\u001b[39m\u001b[38;5;124m\"\u001b[39m)[\u001b[38;5;241m0\u001b[39m]\u001b[38;5;241m.\u001b[39msend_keys(df_prof\u001b[38;5;241m.\u001b[39mLinks[x]\u001b[38;5;241m+\u001b[39mKeys\u001b[38;5;241m.\u001b[39mENTER)\n\u001b[0;32m      4\u001b[0m time\u001b[38;5;241m.\u001b[39msleep(\u001b[38;5;241m0.5\u001b[39m)\n",
      "File \u001b[1;32m~\\AppData\\Local\\Programs\\Python\\Python312\\Lib\\site-packages\\selenium\\webdriver\\remote\\webelement.py:117\u001b[0m, in \u001b[0;36mWebElement.clear\u001b[1;34m(self)\u001b[0m\n\u001b[0;32m    115\u001b[0m \u001b[38;5;28;01mdef\u001b[39;00m \u001b[38;5;21mclear\u001b[39m(\u001b[38;5;28mself\u001b[39m) \u001b[38;5;241m-\u001b[39m\u001b[38;5;241m>\u001b[39m \u001b[38;5;28;01mNone\u001b[39;00m:\n\u001b[0;32m    116\u001b[0m \u001b[38;5;250m    \u001b[39m\u001b[38;5;124;03m\"\"\"Clears the text if it's a text entry element.\"\"\"\u001b[39;00m\n\u001b[1;32m--> 117\u001b[0m     \u001b[38;5;28;43mself\u001b[39;49m\u001b[38;5;241;43m.\u001b[39;49m\u001b[43m_execute\u001b[49m\u001b[43m(\u001b[49m\u001b[43mCommand\u001b[49m\u001b[38;5;241;43m.\u001b[39;49m\u001b[43mCLEAR_ELEMENT\u001b[49m\u001b[43m)\u001b[49m\n",
      "File \u001b[1;32m~\\AppData\\Local\\Programs\\Python\\Python312\\Lib\\site-packages\\selenium\\webdriver\\remote\\webelement.py:395\u001b[0m, in \u001b[0;36mWebElement._execute\u001b[1;34m(self, command, params)\u001b[0m\n\u001b[0;32m    393\u001b[0m     params \u001b[38;5;241m=\u001b[39m {}\n\u001b[0;32m    394\u001b[0m params[\u001b[38;5;124m\"\u001b[39m\u001b[38;5;124mid\u001b[39m\u001b[38;5;124m\"\u001b[39m] \u001b[38;5;241m=\u001b[39m \u001b[38;5;28mself\u001b[39m\u001b[38;5;241m.\u001b[39m_id\n\u001b[1;32m--> 395\u001b[0m \u001b[38;5;28;01mreturn\u001b[39;00m \u001b[38;5;28;43mself\u001b[39;49m\u001b[38;5;241;43m.\u001b[39;49m\u001b[43m_parent\u001b[49m\u001b[38;5;241;43m.\u001b[39;49m\u001b[43mexecute\u001b[49m\u001b[43m(\u001b[49m\u001b[43mcommand\u001b[49m\u001b[43m,\u001b[49m\u001b[43m \u001b[49m\u001b[43mparams\u001b[49m\u001b[43m)\u001b[49m\n",
      "File \u001b[1;32m~\\AppData\\Local\\Programs\\Python\\Python312\\Lib\\site-packages\\selenium\\webdriver\\remote\\webdriver.py:354\u001b[0m, in \u001b[0;36mWebDriver.execute\u001b[1;34m(self, driver_command, params)\u001b[0m\n\u001b[0;32m    352\u001b[0m response \u001b[38;5;241m=\u001b[39m \u001b[38;5;28mself\u001b[39m\u001b[38;5;241m.\u001b[39mcommand_executor\u001b[38;5;241m.\u001b[39mexecute(driver_command, params)\n\u001b[0;32m    353\u001b[0m \u001b[38;5;28;01mif\u001b[39;00m response:\n\u001b[1;32m--> 354\u001b[0m     \u001b[38;5;28;43mself\u001b[39;49m\u001b[38;5;241;43m.\u001b[39;49m\u001b[43merror_handler\u001b[49m\u001b[38;5;241;43m.\u001b[39;49m\u001b[43mcheck_response\u001b[49m\u001b[43m(\u001b[49m\u001b[43mresponse\u001b[49m\u001b[43m)\u001b[49m\n\u001b[0;32m    355\u001b[0m     response[\u001b[38;5;124m\"\u001b[39m\u001b[38;5;124mvalue\u001b[39m\u001b[38;5;124m\"\u001b[39m] \u001b[38;5;241m=\u001b[39m \u001b[38;5;28mself\u001b[39m\u001b[38;5;241m.\u001b[39m_unwrap_value(response\u001b[38;5;241m.\u001b[39mget(\u001b[38;5;124m\"\u001b[39m\u001b[38;5;124mvalue\u001b[39m\u001b[38;5;124m\"\u001b[39m, \u001b[38;5;28;01mNone\u001b[39;00m))\n\u001b[0;32m    356\u001b[0m     \u001b[38;5;28;01mreturn\u001b[39;00m response\n",
      "File \u001b[1;32m~\\AppData\\Local\\Programs\\Python\\Python312\\Lib\\site-packages\\selenium\\webdriver\\remote\\errorhandler.py:229\u001b[0m, in \u001b[0;36mErrorHandler.check_response\u001b[1;34m(self, response)\u001b[0m\n\u001b[0;32m    227\u001b[0m         alert_text \u001b[38;5;241m=\u001b[39m value[\u001b[38;5;124m\"\u001b[39m\u001b[38;5;124malert\u001b[39m\u001b[38;5;124m\"\u001b[39m]\u001b[38;5;241m.\u001b[39mget(\u001b[38;5;124m\"\u001b[39m\u001b[38;5;124mtext\u001b[39m\u001b[38;5;124m\"\u001b[39m)\n\u001b[0;32m    228\u001b[0m     \u001b[38;5;28;01mraise\u001b[39;00m exception_class(message, screen, stacktrace, alert_text)  \u001b[38;5;66;03m# type: ignore[call-arg]  # mypy is not smart enough here\u001b[39;00m\n\u001b[1;32m--> 229\u001b[0m \u001b[38;5;28;01mraise\u001b[39;00m exception_class(message, screen, stacktrace)\n",
      "\u001b[1;31mElementNotInteractableException\u001b[0m: Message: element not interactable\n  (Session info: chrome=127.0.6533.100)\nStacktrace:\n\tGetHandleVerifier [0x00007FF69797EEA2+31554]\n\t(No symbol) [0x00007FF6978F7ED9]\n\t(No symbol) [0x00007FF6977B8559]\n\t(No symbol) [0x00007FF6977FDDD9]\n\t(No symbol) [0x00007FF69782D02A]\n\t(No symbol) [0x00007FF6977FBA76]\n\t(No symbol) [0x00007FF69782D240]\n\t(No symbol) [0x00007FF69784C977]\n\t(No symbol) [0x00007FF69782CDD3]\n\t(No symbol) [0x00007FF6977FA33B]\n\t(No symbol) [0x00007FF6977FAED1]\n\tGetHandleVerifier [0x00007FF697C88B1D+3217341]\n\tGetHandleVerifier [0x00007FF697CD5AE3+3532675]\n\tGetHandleVerifier [0x00007FF697CCB0E0+3489152]\n\tGetHandleVerifier [0x00007FF697A2E776+750614]\n\t(No symbol) [0x00007FF69790375F]\n\t(No symbol) [0x00007FF6978FEB14]\n\t(No symbol) [0x00007FF6978FECA2]\n\t(No symbol) [0x00007FF6978EE16F]\n\tBaseThreadInitThunk [0x00007FFFC2257374+20]\n\tRtlUserThreadStart [0x00007FFFC2BBCC91+33]\n"
     ]
    }
   ],
   "source": [
    "x=1\n",
    "driver.find_elements(By.XPATH,\"//*[@id='global-nav-typeahead']/input\")[0].clear()\n",
    "driver.find_elements(By.XPATH,\"//*[@id='global-nav-typeahead']/input\")[0].send_keys(df_prof.Links[x]+Keys.ENTER)\n",
    "time.sleep(0.5)\n",
    "    # driver.find_elements(By.CLASS_NAME,\"app-aware-link\")[11].click()\n",
    "print(driver.find_elements(By.CSS_SELECTOR,\"//*[@id='QIabs4MrTp+L++Z9bwsUUA==']/div/ul/li/div/div/div/div[2]/div[2]/div/a\")[0].text+\" \"+df_prof.Links[x])\n",
    "    # time.sleep(0.5)\n",
    "driver.find_elements(By.CSS_SELECTOR,\"//*[@id='QIabs4MrTp+L++Z9bwsUUA==']/div/ul/li/div/div/div/div[2]/div[2]/div/a\")[0].click()"
   ]
  },
  {
   "cell_type": "code",
   "execution_count": null,
   "id": "aa195906-5019-4705-8961-6770afc756c1",
   "metadata": {},
   "outputs": [],
   "source": []
  },
  {
   "cell_type": "code",
   "execution_count": null,
   "id": "dd61fffb-f93f-4197-bf8f-50a2b5c96da2",
   "metadata": {},
   "outputs": [],
   "source": []
  }
 ],
 "metadata": {
  "kernelspec": {
   "display_name": "Python 3 (ipykernel)",
   "language": "python",
   "name": "python3"
  },
  "language_info": {
   "codemirror_mode": {
    "name": "ipython",
    "version": 3
   },
   "file_extension": ".py",
   "mimetype": "text/x-python",
   "name": "python",
   "nbconvert_exporter": "python",
   "pygments_lexer": "ipython3",
   "version": "3.12.4"
  }
 },
 "nbformat": 4,
 "nbformat_minor": 5
}
